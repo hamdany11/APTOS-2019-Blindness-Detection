{
  "nbformat": 4,
  "nbformat_minor": 0,
  "metadata": {
    "colab": {
      "name": "How to Write and Match Regular Expressions",
      "provenance": [],
      "include_colab_link": true
    },
    "kernelspec": {
      "name": "python3",
      "display_name": "Python 3"
    }
  },
  "cells": [
    {
      "cell_type": "markdown",
      "metadata": {
        "id": "view-in-github",
        "colab_type": "text"
      },
      "source": [
        "<a href=\"https://colab.research.google.com/github/hamdany11/APTOS-2019-Blindness-Detection/blob/master/How_to_Write_and_Match_Regular_Expressions.ipynb\" target=\"_parent\"><img src=\"https://colab.research.google.com/assets/colab-badge.svg\" alt=\"Open In Colab\"/></a>"
      ]
    },
    {
      "cell_type": "markdown",
      "metadata": {
        "id": "-cUgO4c1VTXr"
      },
      "source": [
        "**How to Write and Match Regular Expressions"
      ]
    },
    {
      "cell_type": "markdown",
      "metadata": {
        "id": "aAl5avHYb6Zd"
      },
      "source": [
        "## Section-4: Regular Expressions"
      ]
    },
    {
      "cell_type": "code",
      "metadata": {
        "id": "QJgsT47gb6h-",
        "outputId": "82d7ab18-2ee8-4022-c440-7c403a64998b",
        "colab": {
          "base_uri": "https://localhost:8080/",
          "height": 50
        }
      },
      "source": [
        "#Initial Example of how to use re package in python\n",
        "import re\n",
        "# Example-1\n",
        "pattern = '^a...s$'\n",
        "test_string = 'abyss'\n",
        "result = re.match(pattern, test_string)\n",
        "if result:\n",
        "  print(\"Search successful.\")\n",
        "else:\n",
        "  print(\"Search unsuccessful.\")\t\n",
        "\n",
        "# Example-2\n",
        "txt = \"The rain in Spain\"\n",
        "x = re.search(\"^The.*Spain$\", txt)\n",
        "print(x)"
      ],
      "execution_count": 2,
      "outputs": [
        {
          "output_type": "stream",
          "text": [
            "Search successful.\n",
            "<_sre.SRE_Match object; span=(0, 17), match='The rain in Spain'>\n"
          ],
          "name": "stdout"
        }
      ]
    },
    {
      "cell_type": "code",
      "metadata": {
        "id": "ttW1d8dwp_QX"
      },
      "source": [
        "import re\n",
        "text_to_search = '''\n",
        "abcdefghijkilmnopqrstuvwxyz\n",
        "ABCDEFGHIKLMNOPQRSTVWZY\n",
        "123456789\n",
        "Ha HaHa\n",
        "Metacharacters (need to be escaped)\n",
        ". ^ $ * + ? { } [ ] \\ | ( )\n",
        "coreyms.com\n",
        "321-555-4321\n",
        "123.555-1234\n",
        "800-555-5669\n",
        "900-555-9340\n",
        "800-555-6771\n",
        "\n",
        "Mr. Schafer\n",
        "Mr Smith\n",
        "Ms Davis\n",
        "Mrs. Robinson\n",
        "Mr. TabError\n",
        "'''\n",
        "sentance = 'Start a sentence and then bring it to an end'"
      ],
      "execution_count": 11,
      "outputs": []
    },
    {
      "cell_type": "code",
      "metadata": {
        "id": "G07ss2NEyKQz",
        "outputId": "8556d33d-efc4-44b6-d5f9-30220691e6a6",
        "colab": {
          "base_uri": "https://localhost:8080/",
          "height": 34
        }
      },
      "source": [
        "print ('\\ttab')"
      ],
      "execution_count": 1,
      "outputs": [
        {
          "output_type": "stream",
          "text": [
            "\ttab\n"
          ],
          "name": "stdout"
        }
      ]
    },
    {
      "cell_type": "code",
      "metadata": {
        "id": "C31r8RsryUc8",
        "outputId": "3169b0c7-5970-4e69-9352-ff96a8411e2f",
        "colab": {
          "base_uri": "https://localhost:8080/",
          "height": 34
        }
      },
      "source": [
        "print (r'\\ttab')"
      ],
      "execution_count": 3,
      "outputs": [
        {
          "output_type": "stream",
          "text": [
            "\\ttab\n"
          ],
          "name": "stdout"
        }
      ]
    },
    {
      "cell_type": "code",
      "metadata": {
        "id": "DdGhPzXWyjAn",
        "outputId": "a4138a9c-dcde-4cb7-b47b-35f582444854",
        "colab": {
          "base_uri": "https://localhost:8080/",
          "height": 229
        }
      },
      "source": [
        "import re\n",
        "\n",
        "pattern = re.compile(r'abc')\n",
        "matches = pattern.finditer(text_to_search)\n",
        "\n",
        "for match in matches:\n",
        "  print(match)\n",
        "  \n",
        "print (text_to_search[1:4])"
      ],
      "execution_count": 1,
      "outputs": [
        {
          "output_type": "error",
          "ename": "NameError",
          "evalue": "ignored",
          "traceback": [
            "\u001b[0;31m---------------------------------------------------------------------------\u001b[0m",
            "\u001b[0;31mNameError\u001b[0m                                 Traceback (most recent call last)",
            "\u001b[0;32m<ipython-input-1-9a0e0257e91b>\u001b[0m in \u001b[0;36m<module>\u001b[0;34m()\u001b[0m\n\u001b[1;32m      2\u001b[0m \u001b[0;34m\u001b[0m\u001b[0m\n\u001b[1;32m      3\u001b[0m \u001b[0mpattern\u001b[0m \u001b[0;34m=\u001b[0m \u001b[0mre\u001b[0m\u001b[0;34m.\u001b[0m\u001b[0mcompile\u001b[0m\u001b[0;34m(\u001b[0m\u001b[0;34mr'abc'\u001b[0m\u001b[0;34m)\u001b[0m\u001b[0;34m\u001b[0m\u001b[0;34m\u001b[0m\u001b[0m\n\u001b[0;32m----> 4\u001b[0;31m \u001b[0mmatches\u001b[0m \u001b[0;34m=\u001b[0m \u001b[0mpattern\u001b[0m\u001b[0;34m.\u001b[0m\u001b[0mfinditer\u001b[0m\u001b[0;34m(\u001b[0m\u001b[0mtext_to_search\u001b[0m\u001b[0;34m)\u001b[0m\u001b[0;34m\u001b[0m\u001b[0;34m\u001b[0m\u001b[0m\n\u001b[0m\u001b[1;32m      5\u001b[0m \u001b[0;34m\u001b[0m\u001b[0m\n\u001b[1;32m      6\u001b[0m \u001b[0;32mfor\u001b[0m \u001b[0mmatch\u001b[0m \u001b[0;32min\u001b[0m \u001b[0mmatches\u001b[0m\u001b[0;34m:\u001b[0m\u001b[0;34m\u001b[0m\u001b[0;34m\u001b[0m\u001b[0m\n",
            "\u001b[0;31mNameError\u001b[0m: name 'text_to_search' is not defined"
          ]
        }
      ]
    },
    {
      "cell_type": "code",
      "metadata": {
        "id": "nEUZ1Au001Xa"
      },
      "source": [
        "import re\n",
        "\n",
        "pattern = re.compile(r'bca') # it will not find anything like bca in text\n",
        "matches = pattern.finditer(text_to_search)\n",
        "\n",
        "for match in matches:\n",
        "  print(match)"
      ],
      "execution_count": 10,
      "outputs": []
    },
    {
      "cell_type": "code",
      "metadata": {
        "id": "ng-5_e471EJg",
        "outputId": "d1a4ad9d-f23a-4310-facd-05619124d485",
        "colab": {
          "base_uri": "https://localhost:8080/",
          "height": 1000
        }
      },
      "source": [
        "\n",
        "pattern = re.compile(r'.') # it will find everything in the text  \n",
        "matches = pattern.finditer(text_to_search)\n",
        "\n",
        "for match in matches:\n",
        "  print(match)"
      ],
      "execution_count": 11,
      "outputs": [
        {
          "output_type": "stream",
          "text": [
            "<_sre.SRE_Match object; span=(1, 2), match='a'>\n",
            "<_sre.SRE_Match object; span=(2, 3), match='b'>\n",
            "<_sre.SRE_Match object; span=(3, 4), match='c'>\n",
            "<_sre.SRE_Match object; span=(4, 5), match='d'>\n",
            "<_sre.SRE_Match object; span=(5, 6), match='e'>\n",
            "<_sre.SRE_Match object; span=(6, 7), match='f'>\n",
            "<_sre.SRE_Match object; span=(7, 8), match='g'>\n",
            "<_sre.SRE_Match object; span=(8, 9), match='h'>\n",
            "<_sre.SRE_Match object; span=(9, 10), match='i'>\n",
            "<_sre.SRE_Match object; span=(10, 11), match='j'>\n",
            "<_sre.SRE_Match object; span=(11, 12), match='k'>\n",
            "<_sre.SRE_Match object; span=(12, 13), match='i'>\n",
            "<_sre.SRE_Match object; span=(13, 14), match='l'>\n",
            "<_sre.SRE_Match object; span=(14, 15), match='m'>\n",
            "<_sre.SRE_Match object; span=(15, 16), match='n'>\n",
            "<_sre.SRE_Match object; span=(16, 17), match='o'>\n",
            "<_sre.SRE_Match object; span=(17, 18), match='p'>\n",
            "<_sre.SRE_Match object; span=(18, 19), match='q'>\n",
            "<_sre.SRE_Match object; span=(19, 20), match='r'>\n",
            "<_sre.SRE_Match object; span=(20, 21), match='s'>\n",
            "<_sre.SRE_Match object; span=(21, 22), match='t'>\n",
            "<_sre.SRE_Match object; span=(22, 23), match='u'>\n",
            "<_sre.SRE_Match object; span=(23, 24), match='v'>\n",
            "<_sre.SRE_Match object; span=(24, 25), match='w'>\n",
            "<_sre.SRE_Match object; span=(25, 26), match='x'>\n",
            "<_sre.SRE_Match object; span=(26, 27), match='y'>\n",
            "<_sre.SRE_Match object; span=(27, 28), match='z'>\n",
            "<_sre.SRE_Match object; span=(29, 30), match='A'>\n",
            "<_sre.SRE_Match object; span=(30, 31), match='B'>\n",
            "<_sre.SRE_Match object; span=(31, 32), match='C'>\n",
            "<_sre.SRE_Match object; span=(32, 33), match='D'>\n",
            "<_sre.SRE_Match object; span=(33, 34), match='E'>\n",
            "<_sre.SRE_Match object; span=(34, 35), match='F'>\n",
            "<_sre.SRE_Match object; span=(35, 36), match='G'>\n",
            "<_sre.SRE_Match object; span=(36, 37), match='H'>\n",
            "<_sre.SRE_Match object; span=(37, 38), match='I'>\n",
            "<_sre.SRE_Match object; span=(38, 39), match='K'>\n",
            "<_sre.SRE_Match object; span=(39, 40), match='L'>\n",
            "<_sre.SRE_Match object; span=(40, 41), match='M'>\n",
            "<_sre.SRE_Match object; span=(41, 42), match='N'>\n",
            "<_sre.SRE_Match object; span=(42, 43), match='O'>\n",
            "<_sre.SRE_Match object; span=(43, 44), match='P'>\n",
            "<_sre.SRE_Match object; span=(44, 45), match='Q'>\n",
            "<_sre.SRE_Match object; span=(45, 46), match='R'>\n",
            "<_sre.SRE_Match object; span=(46, 47), match='S'>\n",
            "<_sre.SRE_Match object; span=(47, 48), match='T'>\n",
            "<_sre.SRE_Match object; span=(48, 49), match='V'>\n",
            "<_sre.SRE_Match object; span=(49, 50), match='W'>\n",
            "<_sre.SRE_Match object; span=(50, 51), match='Z'>\n",
            "<_sre.SRE_Match object; span=(51, 52), match='Y'>\n",
            "<_sre.SRE_Match object; span=(53, 54), match='1'>\n",
            "<_sre.SRE_Match object; span=(54, 55), match='2'>\n",
            "<_sre.SRE_Match object; span=(55, 56), match='3'>\n",
            "<_sre.SRE_Match object; span=(56, 57), match='4'>\n",
            "<_sre.SRE_Match object; span=(57, 58), match='5'>\n",
            "<_sre.SRE_Match object; span=(58, 59), match='6'>\n",
            "<_sre.SRE_Match object; span=(59, 60), match='7'>\n",
            "<_sre.SRE_Match object; span=(60, 61), match='8'>\n",
            "<_sre.SRE_Match object; span=(61, 62), match='9'>\n",
            "<_sre.SRE_Match object; span=(63, 64), match='H'>\n",
            "<_sre.SRE_Match object; span=(64, 65), match='a'>\n",
            "<_sre.SRE_Match object; span=(65, 66), match=' '>\n",
            "<_sre.SRE_Match object; span=(66, 67), match='H'>\n",
            "<_sre.SRE_Match object; span=(67, 68), match='a'>\n",
            "<_sre.SRE_Match object; span=(68, 69), match='H'>\n",
            "<_sre.SRE_Match object; span=(69, 70), match='a'>\n",
            "<_sre.SRE_Match object; span=(71, 72), match='M'>\n",
            "<_sre.SRE_Match object; span=(72, 73), match='e'>\n",
            "<_sre.SRE_Match object; span=(73, 74), match='t'>\n",
            "<_sre.SRE_Match object; span=(74, 75), match='a'>\n",
            "<_sre.SRE_Match object; span=(75, 76), match='c'>\n",
            "<_sre.SRE_Match object; span=(76, 77), match='h'>\n",
            "<_sre.SRE_Match object; span=(77, 78), match='a'>\n",
            "<_sre.SRE_Match object; span=(78, 79), match='r'>\n",
            "<_sre.SRE_Match object; span=(79, 80), match='a'>\n",
            "<_sre.SRE_Match object; span=(80, 81), match='c'>\n",
            "<_sre.SRE_Match object; span=(81, 82), match='t'>\n",
            "<_sre.SRE_Match object; span=(82, 83), match='e'>\n",
            "<_sre.SRE_Match object; span=(83, 84), match='r'>\n",
            "<_sre.SRE_Match object; span=(84, 85), match='s'>\n",
            "<_sre.SRE_Match object; span=(85, 86), match=' '>\n",
            "<_sre.SRE_Match object; span=(86, 87), match='('>\n",
            "<_sre.SRE_Match object; span=(87, 88), match='n'>\n",
            "<_sre.SRE_Match object; span=(88, 89), match='e'>\n",
            "<_sre.SRE_Match object; span=(89, 90), match='e'>\n",
            "<_sre.SRE_Match object; span=(90, 91), match='d'>\n",
            "<_sre.SRE_Match object; span=(91, 92), match=' '>\n",
            "<_sre.SRE_Match object; span=(92, 93), match='t'>\n",
            "<_sre.SRE_Match object; span=(93, 94), match='o'>\n",
            "<_sre.SRE_Match object; span=(94, 95), match=' '>\n",
            "<_sre.SRE_Match object; span=(95, 96), match='b'>\n",
            "<_sre.SRE_Match object; span=(96, 97), match='e'>\n",
            "<_sre.SRE_Match object; span=(97, 98), match=' '>\n",
            "<_sre.SRE_Match object; span=(98, 99), match='e'>\n",
            "<_sre.SRE_Match object; span=(99, 100), match='s'>\n",
            "<_sre.SRE_Match object; span=(100, 101), match='c'>\n",
            "<_sre.SRE_Match object; span=(101, 102), match='a'>\n",
            "<_sre.SRE_Match object; span=(102, 103), match='p'>\n",
            "<_sre.SRE_Match object; span=(103, 104), match='e'>\n",
            "<_sre.SRE_Match object; span=(104, 105), match='d'>\n",
            "<_sre.SRE_Match object; span=(105, 106), match=')'>\n",
            "<_sre.SRE_Match object; span=(107, 108), match='.'>\n",
            "<_sre.SRE_Match object; span=(108, 109), match=' '>\n",
            "<_sre.SRE_Match object; span=(109, 110), match='^'>\n",
            "<_sre.SRE_Match object; span=(110, 111), match=' '>\n",
            "<_sre.SRE_Match object; span=(111, 112), match='$'>\n",
            "<_sre.SRE_Match object; span=(112, 113), match=' '>\n",
            "<_sre.SRE_Match object; span=(113, 114), match='*'>\n",
            "<_sre.SRE_Match object; span=(114, 115), match=' '>\n",
            "<_sre.SRE_Match object; span=(115, 116), match='+'>\n",
            "<_sre.SRE_Match object; span=(116, 117), match=' '>\n",
            "<_sre.SRE_Match object; span=(117, 118), match='?'>\n",
            "<_sre.SRE_Match object; span=(118, 119), match=' '>\n",
            "<_sre.SRE_Match object; span=(119, 120), match='{'>\n",
            "<_sre.SRE_Match object; span=(120, 121), match=' '>\n",
            "<_sre.SRE_Match object; span=(121, 122), match='}'>\n",
            "<_sre.SRE_Match object; span=(122, 123), match=' '>\n",
            "<_sre.SRE_Match object; span=(123, 124), match='['>\n",
            "<_sre.SRE_Match object; span=(124, 125), match=' '>\n",
            "<_sre.SRE_Match object; span=(125, 126), match=']'>\n",
            "<_sre.SRE_Match object; span=(126, 127), match=' '>\n",
            "<_sre.SRE_Match object; span=(127, 128), match='\\\\'>\n",
            "<_sre.SRE_Match object; span=(128, 129), match=' '>\n",
            "<_sre.SRE_Match object; span=(129, 130), match='|'>\n",
            "<_sre.SRE_Match object; span=(130, 131), match=' '>\n",
            "<_sre.SRE_Match object; span=(131, 132), match='('>\n",
            "<_sre.SRE_Match object; span=(132, 133), match=' '>\n",
            "<_sre.SRE_Match object; span=(133, 134), match=')'>\n",
            "<_sre.SRE_Match object; span=(136, 137), match='c'>\n",
            "<_sre.SRE_Match object; span=(137, 138), match='o'>\n",
            "<_sre.SRE_Match object; span=(138, 139), match='r'>\n",
            "<_sre.SRE_Match object; span=(139, 140), match='e'>\n",
            "<_sre.SRE_Match object; span=(140, 141), match='y'>\n",
            "<_sre.SRE_Match object; span=(141, 142), match='m'>\n",
            "<_sre.SRE_Match object; span=(142, 143), match='s'>\n",
            "<_sre.SRE_Match object; span=(143, 144), match='.'>\n",
            "<_sre.SRE_Match object; span=(144, 145), match='c'>\n",
            "<_sre.SRE_Match object; span=(145, 146), match='o'>\n",
            "<_sre.SRE_Match object; span=(146, 147), match='r'>\n",
            "<_sre.SRE_Match object; span=(147, 148), match='e'>\n",
            "<_sre.SRE_Match object; span=(148, 149), match='y'>\n",
            "<_sre.SRE_Match object; span=(149, 150), match='m'>\n",
            "<_sre.SRE_Match object; span=(150, 151), match='s'>\n",
            "<_sre.SRE_Match object; span=(152, 153), match='3'>\n",
            "<_sre.SRE_Match object; span=(153, 154), match='2'>\n",
            "<_sre.SRE_Match object; span=(154, 155), match='1'>\n",
            "<_sre.SRE_Match object; span=(155, 156), match='-'>\n",
            "<_sre.SRE_Match object; span=(156, 157), match='5'>\n",
            "<_sre.SRE_Match object; span=(157, 158), match='5'>\n",
            "<_sre.SRE_Match object; span=(158, 159), match='5'>\n",
            "<_sre.SRE_Match object; span=(159, 160), match='-'>\n",
            "<_sre.SRE_Match object; span=(160, 161), match='4'>\n",
            "<_sre.SRE_Match object; span=(161, 162), match='3'>\n",
            "<_sre.SRE_Match object; span=(162, 163), match='2'>\n",
            "<_sre.SRE_Match object; span=(163, 164), match='1'>\n",
            "<_sre.SRE_Match object; span=(165, 166), match='1'>\n",
            "<_sre.SRE_Match object; span=(166, 167), match='2'>\n",
            "<_sre.SRE_Match object; span=(167, 168), match='3'>\n",
            "<_sre.SRE_Match object; span=(168, 169), match='.'>\n",
            "<_sre.SRE_Match object; span=(169, 170), match='5'>\n",
            "<_sre.SRE_Match object; span=(170, 171), match='5'>\n",
            "<_sre.SRE_Match object; span=(171, 172), match='5'>\n",
            "<_sre.SRE_Match object; span=(172, 173), match='-'>\n",
            "<_sre.SRE_Match object; span=(173, 174), match='1'>\n",
            "<_sre.SRE_Match object; span=(174, 175), match='2'>\n",
            "<_sre.SRE_Match object; span=(175, 176), match='3'>\n",
            "<_sre.SRE_Match object; span=(176, 177), match='4'>\n",
            "<_sre.SRE_Match object; span=(178, 179), match='M'>\n",
            "<_sre.SRE_Match object; span=(179, 180), match='r'>\n",
            "<_sre.SRE_Match object; span=(180, 181), match='.'>\n",
            "<_sre.SRE_Match object; span=(181, 182), match=' '>\n",
            "<_sre.SRE_Match object; span=(182, 183), match='S'>\n",
            "<_sre.SRE_Match object; span=(183, 184), match='c'>\n",
            "<_sre.SRE_Match object; span=(184, 185), match='h'>\n",
            "<_sre.SRE_Match object; span=(185, 186), match='a'>\n",
            "<_sre.SRE_Match object; span=(186, 187), match='f'>\n",
            "<_sre.SRE_Match object; span=(187, 188), match='e'>\n",
            "<_sre.SRE_Match object; span=(188, 189), match='r'>\n",
            "<_sre.SRE_Match object; span=(190, 191), match='M'>\n",
            "<_sre.SRE_Match object; span=(191, 192), match='r'>\n",
            "<_sre.SRE_Match object; span=(192, 193), match=' '>\n",
            "<_sre.SRE_Match object; span=(193, 194), match='S'>\n",
            "<_sre.SRE_Match object; span=(194, 195), match='m'>\n",
            "<_sre.SRE_Match object; span=(195, 196), match='i'>\n",
            "<_sre.SRE_Match object; span=(196, 197), match='t'>\n",
            "<_sre.SRE_Match object; span=(197, 198), match='h'>\n",
            "<_sre.SRE_Match object; span=(199, 200), match='M'>\n",
            "<_sre.SRE_Match object; span=(200, 201), match='s'>\n",
            "<_sre.SRE_Match object; span=(201, 202), match=' '>\n",
            "<_sre.SRE_Match object; span=(202, 203), match='D'>\n",
            "<_sre.SRE_Match object; span=(203, 204), match='a'>\n",
            "<_sre.SRE_Match object; span=(204, 205), match='v'>\n",
            "<_sre.SRE_Match object; span=(205, 206), match='i'>\n",
            "<_sre.SRE_Match object; span=(206, 207), match='s'>\n",
            "<_sre.SRE_Match object; span=(208, 209), match='M'>\n",
            "<_sre.SRE_Match object; span=(209, 210), match='r'>\n",
            "<_sre.SRE_Match object; span=(210, 211), match='s'>\n",
            "<_sre.SRE_Match object; span=(211, 212), match='.'>\n",
            "<_sre.SRE_Match object; span=(212, 213), match=' '>\n",
            "<_sre.SRE_Match object; span=(213, 214), match='R'>\n",
            "<_sre.SRE_Match object; span=(214, 215), match='o'>\n",
            "<_sre.SRE_Match object; span=(215, 216), match='b'>\n",
            "<_sre.SRE_Match object; span=(216, 217), match='i'>\n",
            "<_sre.SRE_Match object; span=(217, 218), match='n'>\n",
            "<_sre.SRE_Match object; span=(218, 219), match='s'>\n",
            "<_sre.SRE_Match object; span=(219, 220), match='o'>\n",
            "<_sre.SRE_Match object; span=(220, 221), match='n'>\n",
            "<_sre.SRE_Match object; span=(222, 223), match='M'>\n",
            "<_sre.SRE_Match object; span=(223, 224), match='r'>\n",
            "<_sre.SRE_Match object; span=(224, 225), match='.'>\n",
            "<_sre.SRE_Match object; span=(225, 226), match=' '>\n",
            "<_sre.SRE_Match object; span=(226, 227), match='T'>\n",
            "<_sre.SRE_Match object; span=(227, 228), match='a'>\n",
            "<_sre.SRE_Match object; span=(228, 229), match='b'>\n",
            "<_sre.SRE_Match object; span=(229, 230), match='E'>\n",
            "<_sre.SRE_Match object; span=(230, 231), match='r'>\n",
            "<_sre.SRE_Match object; span=(231, 232), match='r'>\n",
            "<_sre.SRE_Match object; span=(232, 233), match='o'>\n",
            "<_sre.SRE_Match object; span=(233, 234), match='r'>\n"
          ],
          "name": "stdout"
        }
      ]
    },
    {
      "cell_type": "code",
      "metadata": {
        "id": "fTyRQlge1wsx",
        "outputId": "46d32864-463c-4928-fb45-9be295419847",
        "colab": {
          "base_uri": "https://localhost:8080/",
          "height": 118
        }
      },
      "source": [
        "\n",
        "pattern = re.compile(r'\\.') # it will find everything in the text  \n",
        "matches = pattern.finditer(text_to_search) # only find the dot . in the text , span in the results is the index location of the character . \n",
        "\n",
        "for match in matches:\n",
        "  print(match)"
      ],
      "execution_count": 19,
      "outputs": [
        {
          "output_type": "stream",
          "text": [
            "<_sre.SRE_Match object; span=(107, 108), match='.'>\n",
            "<_sre.SRE_Match object; span=(143, 144), match='.'>\n",
            "<_sre.SRE_Match object; span=(168, 169), match='.'>\n",
            "<_sre.SRE_Match object; span=(180, 181), match='.'>\n",
            "<_sre.SRE_Match object; span=(211, 212), match='.'>\n",
            "<_sre.SRE_Match object; span=(224, 225), match='.'>\n"
          ],
          "name": "stdout"
        }
      ]
    },
    {
      "cell_type": "code",
      "metadata": {
        "id": "CqEKC2v42T-P",
        "outputId": "e812ff71-6b69-4930-983e-d5feec22dfe3",
        "colab": {
          "base_uri": "https://localhost:8080/",
          "height": 34
        }
      },
      "source": [
        "\n",
        "pattern = re.compile(r'coreyms\\.') # it will find  coreyms.com \n",
        "matches = pattern.finditer(text_to_search) \n",
        "\n",
        "for match in matches:\n",
        "  print(match)"
      ],
      "execution_count": 31,
      "outputs": [
        {
          "output_type": "stream",
          "text": [
            "<_sre.SRE_Match object; span=(136, 144), match='coreyms.'>\n"
          ],
          "name": "stdout"
        }
      ]
    },
    {
      "cell_type": "markdown",
      "metadata": {
        "id": "MdJcCH0g0EsL"
      },
      "source": [
        "### regular expressions for tokenizing text"
      ]
    },
    {
      "cell_type": "code",
      "metadata": {
        "id": "gw8JXOIb4RmL",
        "outputId": "25fde60d-edbf-4836-8af5-04b34a9b6167",
        "colab": {
          "base_uri": "https://localhost:8080/",
          "height": 504
        }
      },
      "source": [
        "pattern = re.compile(r'\\d') # any digit (0-9)\n",
        "matches = pattern.finditer(text_to_search) \n",
        "\n",
        "for match in matches:\n",
        "  print(match)"
      ],
      "execution_count": 32,
      "outputs": [
        {
          "output_type": "stream",
          "text": [
            "<_sre.SRE_Match object; span=(53, 54), match='1'>\n",
            "<_sre.SRE_Match object; span=(54, 55), match='2'>\n",
            "<_sre.SRE_Match object; span=(55, 56), match='3'>\n",
            "<_sre.SRE_Match object; span=(56, 57), match='4'>\n",
            "<_sre.SRE_Match object; span=(57, 58), match='5'>\n",
            "<_sre.SRE_Match object; span=(58, 59), match='6'>\n",
            "<_sre.SRE_Match object; span=(59, 60), match='7'>\n",
            "<_sre.SRE_Match object; span=(60, 61), match='8'>\n",
            "<_sre.SRE_Match object; span=(61, 62), match='9'>\n",
            "<_sre.SRE_Match object; span=(152, 153), match='3'>\n",
            "<_sre.SRE_Match object; span=(153, 154), match='2'>\n",
            "<_sre.SRE_Match object; span=(154, 155), match='1'>\n",
            "<_sre.SRE_Match object; span=(156, 157), match='5'>\n",
            "<_sre.SRE_Match object; span=(157, 158), match='5'>\n",
            "<_sre.SRE_Match object; span=(158, 159), match='5'>\n",
            "<_sre.SRE_Match object; span=(160, 161), match='4'>\n",
            "<_sre.SRE_Match object; span=(161, 162), match='3'>\n",
            "<_sre.SRE_Match object; span=(162, 163), match='2'>\n",
            "<_sre.SRE_Match object; span=(163, 164), match='1'>\n",
            "<_sre.SRE_Match object; span=(165, 166), match='1'>\n",
            "<_sre.SRE_Match object; span=(166, 167), match='2'>\n",
            "<_sre.SRE_Match object; span=(167, 168), match='3'>\n",
            "<_sre.SRE_Match object; span=(169, 170), match='5'>\n",
            "<_sre.SRE_Match object; span=(170, 171), match='5'>\n",
            "<_sre.SRE_Match object; span=(171, 172), match='5'>\n",
            "<_sre.SRE_Match object; span=(173, 174), match='1'>\n",
            "<_sre.SRE_Match object; span=(174, 175), match='2'>\n",
            "<_sre.SRE_Match object; span=(175, 176), match='3'>\n",
            "<_sre.SRE_Match object; span=(176, 177), match='4'>\n"
          ],
          "name": "stdout"
        }
      ]
    },
    {
      "cell_type": "code",
      "metadata": {
        "id": "IFFJxZOCCI2t",
        "outputId": "90bb4298-7069-4bdc-af93-aed0b4047a28",
        "colab": {
          "base_uri": "https://localhost:8080/",
          "height": 1000
        }
      },
      "source": [
        "\n",
        "pattern = re.compile(r'\\D') # not a digit (0-9)  \n",
        "matches = pattern.finditer(text_to_search) \n",
        "\n",
        "for match in matches:\n",
        "  print(match)"
      ],
      "execution_count": 35,
      "outputs": [
        {
          "output_type": "stream",
          "text": [
            "<_sre.SRE_Match object; span=(0, 1), match='\\n'>\n",
            "<_sre.SRE_Match object; span=(1, 2), match='a'>\n",
            "<_sre.SRE_Match object; span=(2, 3), match='b'>\n",
            "<_sre.SRE_Match object; span=(3, 4), match='c'>\n",
            "<_sre.SRE_Match object; span=(4, 5), match='d'>\n",
            "<_sre.SRE_Match object; span=(5, 6), match='e'>\n",
            "<_sre.SRE_Match object; span=(6, 7), match='f'>\n",
            "<_sre.SRE_Match object; span=(7, 8), match='g'>\n",
            "<_sre.SRE_Match object; span=(8, 9), match='h'>\n",
            "<_sre.SRE_Match object; span=(9, 10), match='i'>\n",
            "<_sre.SRE_Match object; span=(10, 11), match='j'>\n",
            "<_sre.SRE_Match object; span=(11, 12), match='k'>\n",
            "<_sre.SRE_Match object; span=(12, 13), match='i'>\n",
            "<_sre.SRE_Match object; span=(13, 14), match='l'>\n",
            "<_sre.SRE_Match object; span=(14, 15), match='m'>\n",
            "<_sre.SRE_Match object; span=(15, 16), match='n'>\n",
            "<_sre.SRE_Match object; span=(16, 17), match='o'>\n",
            "<_sre.SRE_Match object; span=(17, 18), match='p'>\n",
            "<_sre.SRE_Match object; span=(18, 19), match='q'>\n",
            "<_sre.SRE_Match object; span=(19, 20), match='r'>\n",
            "<_sre.SRE_Match object; span=(20, 21), match='s'>\n",
            "<_sre.SRE_Match object; span=(21, 22), match='t'>\n",
            "<_sre.SRE_Match object; span=(22, 23), match='u'>\n",
            "<_sre.SRE_Match object; span=(23, 24), match='v'>\n",
            "<_sre.SRE_Match object; span=(24, 25), match='w'>\n",
            "<_sre.SRE_Match object; span=(25, 26), match='x'>\n",
            "<_sre.SRE_Match object; span=(26, 27), match='y'>\n",
            "<_sre.SRE_Match object; span=(27, 28), match='z'>\n",
            "<_sre.SRE_Match object; span=(28, 29), match='\\n'>\n",
            "<_sre.SRE_Match object; span=(29, 30), match='A'>\n",
            "<_sre.SRE_Match object; span=(30, 31), match='B'>\n",
            "<_sre.SRE_Match object; span=(31, 32), match='C'>\n",
            "<_sre.SRE_Match object; span=(32, 33), match='D'>\n",
            "<_sre.SRE_Match object; span=(33, 34), match='E'>\n",
            "<_sre.SRE_Match object; span=(34, 35), match='F'>\n",
            "<_sre.SRE_Match object; span=(35, 36), match='G'>\n",
            "<_sre.SRE_Match object; span=(36, 37), match='H'>\n",
            "<_sre.SRE_Match object; span=(37, 38), match='I'>\n",
            "<_sre.SRE_Match object; span=(38, 39), match='K'>\n",
            "<_sre.SRE_Match object; span=(39, 40), match='L'>\n",
            "<_sre.SRE_Match object; span=(40, 41), match='M'>\n",
            "<_sre.SRE_Match object; span=(41, 42), match='N'>\n",
            "<_sre.SRE_Match object; span=(42, 43), match='O'>\n",
            "<_sre.SRE_Match object; span=(43, 44), match='P'>\n",
            "<_sre.SRE_Match object; span=(44, 45), match='Q'>\n",
            "<_sre.SRE_Match object; span=(45, 46), match='R'>\n",
            "<_sre.SRE_Match object; span=(46, 47), match='S'>\n",
            "<_sre.SRE_Match object; span=(47, 48), match='T'>\n",
            "<_sre.SRE_Match object; span=(48, 49), match='V'>\n",
            "<_sre.SRE_Match object; span=(49, 50), match='W'>\n",
            "<_sre.SRE_Match object; span=(50, 51), match='Z'>\n",
            "<_sre.SRE_Match object; span=(51, 52), match='Y'>\n",
            "<_sre.SRE_Match object; span=(52, 53), match='\\n'>\n",
            "<_sre.SRE_Match object; span=(62, 63), match='\\n'>\n",
            "<_sre.SRE_Match object; span=(63, 64), match='H'>\n",
            "<_sre.SRE_Match object; span=(64, 65), match='a'>\n",
            "<_sre.SRE_Match object; span=(65, 66), match=' '>\n",
            "<_sre.SRE_Match object; span=(66, 67), match='H'>\n",
            "<_sre.SRE_Match object; span=(67, 68), match='a'>\n",
            "<_sre.SRE_Match object; span=(68, 69), match='H'>\n",
            "<_sre.SRE_Match object; span=(69, 70), match='a'>\n",
            "<_sre.SRE_Match object; span=(70, 71), match='\\n'>\n",
            "<_sre.SRE_Match object; span=(71, 72), match='M'>\n",
            "<_sre.SRE_Match object; span=(72, 73), match='e'>\n",
            "<_sre.SRE_Match object; span=(73, 74), match='t'>\n",
            "<_sre.SRE_Match object; span=(74, 75), match='a'>\n",
            "<_sre.SRE_Match object; span=(75, 76), match='c'>\n",
            "<_sre.SRE_Match object; span=(76, 77), match='h'>\n",
            "<_sre.SRE_Match object; span=(77, 78), match='a'>\n",
            "<_sre.SRE_Match object; span=(78, 79), match='r'>\n",
            "<_sre.SRE_Match object; span=(79, 80), match='a'>\n",
            "<_sre.SRE_Match object; span=(80, 81), match='c'>\n",
            "<_sre.SRE_Match object; span=(81, 82), match='t'>\n",
            "<_sre.SRE_Match object; span=(82, 83), match='e'>\n",
            "<_sre.SRE_Match object; span=(83, 84), match='r'>\n",
            "<_sre.SRE_Match object; span=(84, 85), match='s'>\n",
            "<_sre.SRE_Match object; span=(85, 86), match=' '>\n",
            "<_sre.SRE_Match object; span=(86, 87), match='('>\n",
            "<_sre.SRE_Match object; span=(87, 88), match='n'>\n",
            "<_sre.SRE_Match object; span=(88, 89), match='e'>\n",
            "<_sre.SRE_Match object; span=(89, 90), match='e'>\n",
            "<_sre.SRE_Match object; span=(90, 91), match='d'>\n",
            "<_sre.SRE_Match object; span=(91, 92), match=' '>\n",
            "<_sre.SRE_Match object; span=(92, 93), match='t'>\n",
            "<_sre.SRE_Match object; span=(93, 94), match='o'>\n",
            "<_sre.SRE_Match object; span=(94, 95), match=' '>\n",
            "<_sre.SRE_Match object; span=(95, 96), match='b'>\n",
            "<_sre.SRE_Match object; span=(96, 97), match='e'>\n",
            "<_sre.SRE_Match object; span=(97, 98), match=' '>\n",
            "<_sre.SRE_Match object; span=(98, 99), match='e'>\n",
            "<_sre.SRE_Match object; span=(99, 100), match='s'>\n",
            "<_sre.SRE_Match object; span=(100, 101), match='c'>\n",
            "<_sre.SRE_Match object; span=(101, 102), match='a'>\n",
            "<_sre.SRE_Match object; span=(102, 103), match='p'>\n",
            "<_sre.SRE_Match object; span=(103, 104), match='e'>\n",
            "<_sre.SRE_Match object; span=(104, 105), match='d'>\n",
            "<_sre.SRE_Match object; span=(105, 106), match=')'>\n",
            "<_sre.SRE_Match object; span=(106, 107), match='\\n'>\n",
            "<_sre.SRE_Match object; span=(107, 108), match='.'>\n",
            "<_sre.SRE_Match object; span=(108, 109), match=' '>\n",
            "<_sre.SRE_Match object; span=(109, 110), match='^'>\n",
            "<_sre.SRE_Match object; span=(110, 111), match=' '>\n",
            "<_sre.SRE_Match object; span=(111, 112), match='$'>\n",
            "<_sre.SRE_Match object; span=(112, 113), match=' '>\n",
            "<_sre.SRE_Match object; span=(113, 114), match='*'>\n",
            "<_sre.SRE_Match object; span=(114, 115), match=' '>\n",
            "<_sre.SRE_Match object; span=(115, 116), match='+'>\n",
            "<_sre.SRE_Match object; span=(116, 117), match=' '>\n",
            "<_sre.SRE_Match object; span=(117, 118), match='?'>\n",
            "<_sre.SRE_Match object; span=(118, 119), match=' '>\n",
            "<_sre.SRE_Match object; span=(119, 120), match='{'>\n",
            "<_sre.SRE_Match object; span=(120, 121), match=' '>\n",
            "<_sre.SRE_Match object; span=(121, 122), match='}'>\n",
            "<_sre.SRE_Match object; span=(122, 123), match=' '>\n",
            "<_sre.SRE_Match object; span=(123, 124), match='['>\n",
            "<_sre.SRE_Match object; span=(124, 125), match=' '>\n",
            "<_sre.SRE_Match object; span=(125, 126), match=']'>\n",
            "<_sre.SRE_Match object; span=(126, 127), match=' '>\n",
            "<_sre.SRE_Match object; span=(127, 128), match='\\\\'>\n",
            "<_sre.SRE_Match object; span=(128, 129), match=' '>\n",
            "<_sre.SRE_Match object; span=(129, 130), match='|'>\n",
            "<_sre.SRE_Match object; span=(130, 131), match=' '>\n",
            "<_sre.SRE_Match object; span=(131, 132), match='('>\n",
            "<_sre.SRE_Match object; span=(132, 133), match=' '>\n",
            "<_sre.SRE_Match object; span=(133, 134), match=')'>\n",
            "<_sre.SRE_Match object; span=(134, 135), match='\\n'>\n",
            "<_sre.SRE_Match object; span=(135, 136), match='\\n'>\n",
            "<_sre.SRE_Match object; span=(136, 137), match='c'>\n",
            "<_sre.SRE_Match object; span=(137, 138), match='o'>\n",
            "<_sre.SRE_Match object; span=(138, 139), match='r'>\n",
            "<_sre.SRE_Match object; span=(139, 140), match='e'>\n",
            "<_sre.SRE_Match object; span=(140, 141), match='y'>\n",
            "<_sre.SRE_Match object; span=(141, 142), match='m'>\n",
            "<_sre.SRE_Match object; span=(142, 143), match='s'>\n",
            "<_sre.SRE_Match object; span=(143, 144), match='.'>\n",
            "<_sre.SRE_Match object; span=(144, 145), match='c'>\n",
            "<_sre.SRE_Match object; span=(145, 146), match='o'>\n",
            "<_sre.SRE_Match object; span=(146, 147), match='r'>\n",
            "<_sre.SRE_Match object; span=(147, 148), match='e'>\n",
            "<_sre.SRE_Match object; span=(148, 149), match='y'>\n",
            "<_sre.SRE_Match object; span=(149, 150), match='m'>\n",
            "<_sre.SRE_Match object; span=(150, 151), match='s'>\n",
            "<_sre.SRE_Match object; span=(151, 152), match='\\n'>\n",
            "<_sre.SRE_Match object; span=(155, 156), match='-'>\n",
            "<_sre.SRE_Match object; span=(159, 160), match='-'>\n",
            "<_sre.SRE_Match object; span=(164, 165), match='\\n'>\n",
            "<_sre.SRE_Match object; span=(168, 169), match='.'>\n",
            "<_sre.SRE_Match object; span=(172, 173), match='-'>\n",
            "<_sre.SRE_Match object; span=(177, 178), match='\\n'>\n",
            "<_sre.SRE_Match object; span=(178, 179), match='M'>\n",
            "<_sre.SRE_Match object; span=(179, 180), match='r'>\n",
            "<_sre.SRE_Match object; span=(180, 181), match='.'>\n",
            "<_sre.SRE_Match object; span=(181, 182), match=' '>\n",
            "<_sre.SRE_Match object; span=(182, 183), match='S'>\n",
            "<_sre.SRE_Match object; span=(183, 184), match='c'>\n",
            "<_sre.SRE_Match object; span=(184, 185), match='h'>\n",
            "<_sre.SRE_Match object; span=(185, 186), match='a'>\n",
            "<_sre.SRE_Match object; span=(186, 187), match='f'>\n",
            "<_sre.SRE_Match object; span=(187, 188), match='e'>\n",
            "<_sre.SRE_Match object; span=(188, 189), match='r'>\n",
            "<_sre.SRE_Match object; span=(189, 190), match='\\n'>\n",
            "<_sre.SRE_Match object; span=(190, 191), match='M'>\n",
            "<_sre.SRE_Match object; span=(191, 192), match='r'>\n",
            "<_sre.SRE_Match object; span=(192, 193), match=' '>\n",
            "<_sre.SRE_Match object; span=(193, 194), match='S'>\n",
            "<_sre.SRE_Match object; span=(194, 195), match='m'>\n",
            "<_sre.SRE_Match object; span=(195, 196), match='i'>\n",
            "<_sre.SRE_Match object; span=(196, 197), match='t'>\n",
            "<_sre.SRE_Match object; span=(197, 198), match='h'>\n",
            "<_sre.SRE_Match object; span=(198, 199), match='\\n'>\n",
            "<_sre.SRE_Match object; span=(199, 200), match='M'>\n",
            "<_sre.SRE_Match object; span=(200, 201), match='s'>\n",
            "<_sre.SRE_Match object; span=(201, 202), match=' '>\n",
            "<_sre.SRE_Match object; span=(202, 203), match='D'>\n",
            "<_sre.SRE_Match object; span=(203, 204), match='a'>\n",
            "<_sre.SRE_Match object; span=(204, 205), match='v'>\n",
            "<_sre.SRE_Match object; span=(205, 206), match='i'>\n",
            "<_sre.SRE_Match object; span=(206, 207), match='s'>\n",
            "<_sre.SRE_Match object; span=(207, 208), match='\\n'>\n",
            "<_sre.SRE_Match object; span=(208, 209), match='M'>\n",
            "<_sre.SRE_Match object; span=(209, 210), match='r'>\n",
            "<_sre.SRE_Match object; span=(210, 211), match='s'>\n",
            "<_sre.SRE_Match object; span=(211, 212), match='.'>\n",
            "<_sre.SRE_Match object; span=(212, 213), match=' '>\n",
            "<_sre.SRE_Match object; span=(213, 214), match='R'>\n",
            "<_sre.SRE_Match object; span=(214, 215), match='o'>\n",
            "<_sre.SRE_Match object; span=(215, 216), match='b'>\n",
            "<_sre.SRE_Match object; span=(216, 217), match='i'>\n",
            "<_sre.SRE_Match object; span=(217, 218), match='n'>\n",
            "<_sre.SRE_Match object; span=(218, 219), match='s'>\n",
            "<_sre.SRE_Match object; span=(219, 220), match='o'>\n",
            "<_sre.SRE_Match object; span=(220, 221), match='n'>\n",
            "<_sre.SRE_Match object; span=(221, 222), match='\\n'>\n",
            "<_sre.SRE_Match object; span=(222, 223), match='M'>\n",
            "<_sre.SRE_Match object; span=(223, 224), match='r'>\n",
            "<_sre.SRE_Match object; span=(224, 225), match='.'>\n",
            "<_sre.SRE_Match object; span=(225, 226), match=' '>\n",
            "<_sre.SRE_Match object; span=(226, 227), match='T'>\n",
            "<_sre.SRE_Match object; span=(227, 228), match='a'>\n",
            "<_sre.SRE_Match object; span=(228, 229), match='b'>\n",
            "<_sre.SRE_Match object; span=(229, 230), match='E'>\n",
            "<_sre.SRE_Match object; span=(230, 231), match='r'>\n",
            "<_sre.SRE_Match object; span=(231, 232), match='r'>\n",
            "<_sre.SRE_Match object; span=(232, 233), match='o'>\n",
            "<_sre.SRE_Match object; span=(233, 234), match='r'>\n",
            "<_sre.SRE_Match object; span=(234, 235), match='\\n'>\n"
          ],
          "name": "stdout"
        }
      ]
    },
    {
      "cell_type": "code",
      "metadata": {
        "id": "XBIxmoJQCuIY",
        "outputId": "8a2cb973-ac0d-4a8a-85e9-efd995f0ae94",
        "colab": {
          "base_uri": "https://localhost:8080/",
          "height": 1000
        }
      },
      "source": [
        "pattern = re.compile(r'\\w') # word character (a-z ,A-Z, 0-9) \n",
        "matches = pattern.finditer(text_to_search) \n",
        "\n",
        "for match in matches:\n",
        "  print(match)"
      ],
      "execution_count": 36,
      "outputs": [
        {
          "output_type": "stream",
          "text": [
            "<_sre.SRE_Match object; span=(1, 2), match='a'>\n",
            "<_sre.SRE_Match object; span=(2, 3), match='b'>\n",
            "<_sre.SRE_Match object; span=(3, 4), match='c'>\n",
            "<_sre.SRE_Match object; span=(4, 5), match='d'>\n",
            "<_sre.SRE_Match object; span=(5, 6), match='e'>\n",
            "<_sre.SRE_Match object; span=(6, 7), match='f'>\n",
            "<_sre.SRE_Match object; span=(7, 8), match='g'>\n",
            "<_sre.SRE_Match object; span=(8, 9), match='h'>\n",
            "<_sre.SRE_Match object; span=(9, 10), match='i'>\n",
            "<_sre.SRE_Match object; span=(10, 11), match='j'>\n",
            "<_sre.SRE_Match object; span=(11, 12), match='k'>\n",
            "<_sre.SRE_Match object; span=(12, 13), match='i'>\n",
            "<_sre.SRE_Match object; span=(13, 14), match='l'>\n",
            "<_sre.SRE_Match object; span=(14, 15), match='m'>\n",
            "<_sre.SRE_Match object; span=(15, 16), match='n'>\n",
            "<_sre.SRE_Match object; span=(16, 17), match='o'>\n",
            "<_sre.SRE_Match object; span=(17, 18), match='p'>\n",
            "<_sre.SRE_Match object; span=(18, 19), match='q'>\n",
            "<_sre.SRE_Match object; span=(19, 20), match='r'>\n",
            "<_sre.SRE_Match object; span=(20, 21), match='s'>\n",
            "<_sre.SRE_Match object; span=(21, 22), match='t'>\n",
            "<_sre.SRE_Match object; span=(22, 23), match='u'>\n",
            "<_sre.SRE_Match object; span=(23, 24), match='v'>\n",
            "<_sre.SRE_Match object; span=(24, 25), match='w'>\n",
            "<_sre.SRE_Match object; span=(25, 26), match='x'>\n",
            "<_sre.SRE_Match object; span=(26, 27), match='y'>\n",
            "<_sre.SRE_Match object; span=(27, 28), match='z'>\n",
            "<_sre.SRE_Match object; span=(29, 30), match='A'>\n",
            "<_sre.SRE_Match object; span=(30, 31), match='B'>\n",
            "<_sre.SRE_Match object; span=(31, 32), match='C'>\n",
            "<_sre.SRE_Match object; span=(32, 33), match='D'>\n",
            "<_sre.SRE_Match object; span=(33, 34), match='E'>\n",
            "<_sre.SRE_Match object; span=(34, 35), match='F'>\n",
            "<_sre.SRE_Match object; span=(35, 36), match='G'>\n",
            "<_sre.SRE_Match object; span=(36, 37), match='H'>\n",
            "<_sre.SRE_Match object; span=(37, 38), match='I'>\n",
            "<_sre.SRE_Match object; span=(38, 39), match='K'>\n",
            "<_sre.SRE_Match object; span=(39, 40), match='L'>\n",
            "<_sre.SRE_Match object; span=(40, 41), match='M'>\n",
            "<_sre.SRE_Match object; span=(41, 42), match='N'>\n",
            "<_sre.SRE_Match object; span=(42, 43), match='O'>\n",
            "<_sre.SRE_Match object; span=(43, 44), match='P'>\n",
            "<_sre.SRE_Match object; span=(44, 45), match='Q'>\n",
            "<_sre.SRE_Match object; span=(45, 46), match='R'>\n",
            "<_sre.SRE_Match object; span=(46, 47), match='S'>\n",
            "<_sre.SRE_Match object; span=(47, 48), match='T'>\n",
            "<_sre.SRE_Match object; span=(48, 49), match='V'>\n",
            "<_sre.SRE_Match object; span=(49, 50), match='W'>\n",
            "<_sre.SRE_Match object; span=(50, 51), match='Z'>\n",
            "<_sre.SRE_Match object; span=(51, 52), match='Y'>\n",
            "<_sre.SRE_Match object; span=(53, 54), match='1'>\n",
            "<_sre.SRE_Match object; span=(54, 55), match='2'>\n",
            "<_sre.SRE_Match object; span=(55, 56), match='3'>\n",
            "<_sre.SRE_Match object; span=(56, 57), match='4'>\n",
            "<_sre.SRE_Match object; span=(57, 58), match='5'>\n",
            "<_sre.SRE_Match object; span=(58, 59), match='6'>\n",
            "<_sre.SRE_Match object; span=(59, 60), match='7'>\n",
            "<_sre.SRE_Match object; span=(60, 61), match='8'>\n",
            "<_sre.SRE_Match object; span=(61, 62), match='9'>\n",
            "<_sre.SRE_Match object; span=(63, 64), match='H'>\n",
            "<_sre.SRE_Match object; span=(64, 65), match='a'>\n",
            "<_sre.SRE_Match object; span=(66, 67), match='H'>\n",
            "<_sre.SRE_Match object; span=(67, 68), match='a'>\n",
            "<_sre.SRE_Match object; span=(68, 69), match='H'>\n",
            "<_sre.SRE_Match object; span=(69, 70), match='a'>\n",
            "<_sre.SRE_Match object; span=(71, 72), match='M'>\n",
            "<_sre.SRE_Match object; span=(72, 73), match='e'>\n",
            "<_sre.SRE_Match object; span=(73, 74), match='t'>\n",
            "<_sre.SRE_Match object; span=(74, 75), match='a'>\n",
            "<_sre.SRE_Match object; span=(75, 76), match='c'>\n",
            "<_sre.SRE_Match object; span=(76, 77), match='h'>\n",
            "<_sre.SRE_Match object; span=(77, 78), match='a'>\n",
            "<_sre.SRE_Match object; span=(78, 79), match='r'>\n",
            "<_sre.SRE_Match object; span=(79, 80), match='a'>\n",
            "<_sre.SRE_Match object; span=(80, 81), match='c'>\n",
            "<_sre.SRE_Match object; span=(81, 82), match='t'>\n",
            "<_sre.SRE_Match object; span=(82, 83), match='e'>\n",
            "<_sre.SRE_Match object; span=(83, 84), match='r'>\n",
            "<_sre.SRE_Match object; span=(84, 85), match='s'>\n",
            "<_sre.SRE_Match object; span=(87, 88), match='n'>\n",
            "<_sre.SRE_Match object; span=(88, 89), match='e'>\n",
            "<_sre.SRE_Match object; span=(89, 90), match='e'>\n",
            "<_sre.SRE_Match object; span=(90, 91), match='d'>\n",
            "<_sre.SRE_Match object; span=(92, 93), match='t'>\n",
            "<_sre.SRE_Match object; span=(93, 94), match='o'>\n",
            "<_sre.SRE_Match object; span=(95, 96), match='b'>\n",
            "<_sre.SRE_Match object; span=(96, 97), match='e'>\n",
            "<_sre.SRE_Match object; span=(98, 99), match='e'>\n",
            "<_sre.SRE_Match object; span=(99, 100), match='s'>\n",
            "<_sre.SRE_Match object; span=(100, 101), match='c'>\n",
            "<_sre.SRE_Match object; span=(101, 102), match='a'>\n",
            "<_sre.SRE_Match object; span=(102, 103), match='p'>\n",
            "<_sre.SRE_Match object; span=(103, 104), match='e'>\n",
            "<_sre.SRE_Match object; span=(104, 105), match='d'>\n",
            "<_sre.SRE_Match object; span=(136, 137), match='c'>\n",
            "<_sre.SRE_Match object; span=(137, 138), match='o'>\n",
            "<_sre.SRE_Match object; span=(138, 139), match='r'>\n",
            "<_sre.SRE_Match object; span=(139, 140), match='e'>\n",
            "<_sre.SRE_Match object; span=(140, 141), match='y'>\n",
            "<_sre.SRE_Match object; span=(141, 142), match='m'>\n",
            "<_sre.SRE_Match object; span=(142, 143), match='s'>\n",
            "<_sre.SRE_Match object; span=(144, 145), match='c'>\n",
            "<_sre.SRE_Match object; span=(145, 146), match='o'>\n",
            "<_sre.SRE_Match object; span=(146, 147), match='r'>\n",
            "<_sre.SRE_Match object; span=(147, 148), match='e'>\n",
            "<_sre.SRE_Match object; span=(148, 149), match='y'>\n",
            "<_sre.SRE_Match object; span=(149, 150), match='m'>\n",
            "<_sre.SRE_Match object; span=(150, 151), match='s'>\n",
            "<_sre.SRE_Match object; span=(152, 153), match='3'>\n",
            "<_sre.SRE_Match object; span=(153, 154), match='2'>\n",
            "<_sre.SRE_Match object; span=(154, 155), match='1'>\n",
            "<_sre.SRE_Match object; span=(156, 157), match='5'>\n",
            "<_sre.SRE_Match object; span=(157, 158), match='5'>\n",
            "<_sre.SRE_Match object; span=(158, 159), match='5'>\n",
            "<_sre.SRE_Match object; span=(160, 161), match='4'>\n",
            "<_sre.SRE_Match object; span=(161, 162), match='3'>\n",
            "<_sre.SRE_Match object; span=(162, 163), match='2'>\n",
            "<_sre.SRE_Match object; span=(163, 164), match='1'>\n",
            "<_sre.SRE_Match object; span=(165, 166), match='1'>\n",
            "<_sre.SRE_Match object; span=(166, 167), match='2'>\n",
            "<_sre.SRE_Match object; span=(167, 168), match='3'>\n",
            "<_sre.SRE_Match object; span=(169, 170), match='5'>\n",
            "<_sre.SRE_Match object; span=(170, 171), match='5'>\n",
            "<_sre.SRE_Match object; span=(171, 172), match='5'>\n",
            "<_sre.SRE_Match object; span=(173, 174), match='1'>\n",
            "<_sre.SRE_Match object; span=(174, 175), match='2'>\n",
            "<_sre.SRE_Match object; span=(175, 176), match='3'>\n",
            "<_sre.SRE_Match object; span=(176, 177), match='4'>\n",
            "<_sre.SRE_Match object; span=(178, 179), match='M'>\n",
            "<_sre.SRE_Match object; span=(179, 180), match='r'>\n",
            "<_sre.SRE_Match object; span=(182, 183), match='S'>\n",
            "<_sre.SRE_Match object; span=(183, 184), match='c'>\n",
            "<_sre.SRE_Match object; span=(184, 185), match='h'>\n",
            "<_sre.SRE_Match object; span=(185, 186), match='a'>\n",
            "<_sre.SRE_Match object; span=(186, 187), match='f'>\n",
            "<_sre.SRE_Match object; span=(187, 188), match='e'>\n",
            "<_sre.SRE_Match object; span=(188, 189), match='r'>\n",
            "<_sre.SRE_Match object; span=(190, 191), match='M'>\n",
            "<_sre.SRE_Match object; span=(191, 192), match='r'>\n",
            "<_sre.SRE_Match object; span=(193, 194), match='S'>\n",
            "<_sre.SRE_Match object; span=(194, 195), match='m'>\n",
            "<_sre.SRE_Match object; span=(195, 196), match='i'>\n",
            "<_sre.SRE_Match object; span=(196, 197), match='t'>\n",
            "<_sre.SRE_Match object; span=(197, 198), match='h'>\n",
            "<_sre.SRE_Match object; span=(199, 200), match='M'>\n",
            "<_sre.SRE_Match object; span=(200, 201), match='s'>\n",
            "<_sre.SRE_Match object; span=(202, 203), match='D'>\n",
            "<_sre.SRE_Match object; span=(203, 204), match='a'>\n",
            "<_sre.SRE_Match object; span=(204, 205), match='v'>\n",
            "<_sre.SRE_Match object; span=(205, 206), match='i'>\n",
            "<_sre.SRE_Match object; span=(206, 207), match='s'>\n",
            "<_sre.SRE_Match object; span=(208, 209), match='M'>\n",
            "<_sre.SRE_Match object; span=(209, 210), match='r'>\n",
            "<_sre.SRE_Match object; span=(210, 211), match='s'>\n",
            "<_sre.SRE_Match object; span=(213, 214), match='R'>\n",
            "<_sre.SRE_Match object; span=(214, 215), match='o'>\n",
            "<_sre.SRE_Match object; span=(215, 216), match='b'>\n",
            "<_sre.SRE_Match object; span=(216, 217), match='i'>\n",
            "<_sre.SRE_Match object; span=(217, 218), match='n'>\n",
            "<_sre.SRE_Match object; span=(218, 219), match='s'>\n",
            "<_sre.SRE_Match object; span=(219, 220), match='o'>\n",
            "<_sre.SRE_Match object; span=(220, 221), match='n'>\n",
            "<_sre.SRE_Match object; span=(222, 223), match='M'>\n",
            "<_sre.SRE_Match object; span=(223, 224), match='r'>\n",
            "<_sre.SRE_Match object; span=(226, 227), match='T'>\n",
            "<_sre.SRE_Match object; span=(227, 228), match='a'>\n",
            "<_sre.SRE_Match object; span=(228, 229), match='b'>\n",
            "<_sre.SRE_Match object; span=(229, 230), match='E'>\n",
            "<_sre.SRE_Match object; span=(230, 231), match='r'>\n",
            "<_sre.SRE_Match object; span=(231, 232), match='r'>\n",
            "<_sre.SRE_Match object; span=(232, 233), match='o'>\n",
            "<_sre.SRE_Match object; span=(233, 234), match='r'>\n"
          ],
          "name": "stdout"
        }
      ]
    },
    {
      "cell_type": "code",
      "metadata": {
        "id": "3-Z5HbqZDLI-",
        "outputId": "3ee74271-a3f7-4fd3-ab76-14d2b12fff4f",
        "colab": {
          "base_uri": "https://localhost:8080/",
          "height": 1000
        }
      },
      "source": [
        "pattern = re.compile(r'\\W') # NOT word character (a-z ,A-Z, 0-9) \n",
        "matches = pattern.finditer(text_to_search) \n",
        "\n",
        "for match in matches:\n",
        "  print(match)"
      ],
      "execution_count": 37,
      "outputs": [
        {
          "output_type": "stream",
          "text": [
            "<_sre.SRE_Match object; span=(0, 1), match='\\n'>\n",
            "<_sre.SRE_Match object; span=(28, 29), match='\\n'>\n",
            "<_sre.SRE_Match object; span=(52, 53), match='\\n'>\n",
            "<_sre.SRE_Match object; span=(62, 63), match='\\n'>\n",
            "<_sre.SRE_Match object; span=(65, 66), match=' '>\n",
            "<_sre.SRE_Match object; span=(70, 71), match='\\n'>\n",
            "<_sre.SRE_Match object; span=(85, 86), match=' '>\n",
            "<_sre.SRE_Match object; span=(86, 87), match='('>\n",
            "<_sre.SRE_Match object; span=(91, 92), match=' '>\n",
            "<_sre.SRE_Match object; span=(94, 95), match=' '>\n",
            "<_sre.SRE_Match object; span=(97, 98), match=' '>\n",
            "<_sre.SRE_Match object; span=(105, 106), match=')'>\n",
            "<_sre.SRE_Match object; span=(106, 107), match='\\n'>\n",
            "<_sre.SRE_Match object; span=(107, 108), match='.'>\n",
            "<_sre.SRE_Match object; span=(108, 109), match=' '>\n",
            "<_sre.SRE_Match object; span=(109, 110), match='^'>\n",
            "<_sre.SRE_Match object; span=(110, 111), match=' '>\n",
            "<_sre.SRE_Match object; span=(111, 112), match='$'>\n",
            "<_sre.SRE_Match object; span=(112, 113), match=' '>\n",
            "<_sre.SRE_Match object; span=(113, 114), match='*'>\n",
            "<_sre.SRE_Match object; span=(114, 115), match=' '>\n",
            "<_sre.SRE_Match object; span=(115, 116), match='+'>\n",
            "<_sre.SRE_Match object; span=(116, 117), match=' '>\n",
            "<_sre.SRE_Match object; span=(117, 118), match='?'>\n",
            "<_sre.SRE_Match object; span=(118, 119), match=' '>\n",
            "<_sre.SRE_Match object; span=(119, 120), match='{'>\n",
            "<_sre.SRE_Match object; span=(120, 121), match=' '>\n",
            "<_sre.SRE_Match object; span=(121, 122), match='}'>\n",
            "<_sre.SRE_Match object; span=(122, 123), match=' '>\n",
            "<_sre.SRE_Match object; span=(123, 124), match='['>\n",
            "<_sre.SRE_Match object; span=(124, 125), match=' '>\n",
            "<_sre.SRE_Match object; span=(125, 126), match=']'>\n",
            "<_sre.SRE_Match object; span=(126, 127), match=' '>\n",
            "<_sre.SRE_Match object; span=(127, 128), match='\\\\'>\n",
            "<_sre.SRE_Match object; span=(128, 129), match=' '>\n",
            "<_sre.SRE_Match object; span=(129, 130), match='|'>\n",
            "<_sre.SRE_Match object; span=(130, 131), match=' '>\n",
            "<_sre.SRE_Match object; span=(131, 132), match='('>\n",
            "<_sre.SRE_Match object; span=(132, 133), match=' '>\n",
            "<_sre.SRE_Match object; span=(133, 134), match=')'>\n",
            "<_sre.SRE_Match object; span=(134, 135), match='\\n'>\n",
            "<_sre.SRE_Match object; span=(135, 136), match='\\n'>\n",
            "<_sre.SRE_Match object; span=(143, 144), match='.'>\n",
            "<_sre.SRE_Match object; span=(151, 152), match='\\n'>\n",
            "<_sre.SRE_Match object; span=(155, 156), match='-'>\n",
            "<_sre.SRE_Match object; span=(159, 160), match='-'>\n",
            "<_sre.SRE_Match object; span=(164, 165), match='\\n'>\n",
            "<_sre.SRE_Match object; span=(168, 169), match='.'>\n",
            "<_sre.SRE_Match object; span=(172, 173), match='-'>\n",
            "<_sre.SRE_Match object; span=(177, 178), match='\\n'>\n",
            "<_sre.SRE_Match object; span=(180, 181), match='.'>\n",
            "<_sre.SRE_Match object; span=(181, 182), match=' '>\n",
            "<_sre.SRE_Match object; span=(189, 190), match='\\n'>\n",
            "<_sre.SRE_Match object; span=(192, 193), match=' '>\n",
            "<_sre.SRE_Match object; span=(198, 199), match='\\n'>\n",
            "<_sre.SRE_Match object; span=(201, 202), match=' '>\n",
            "<_sre.SRE_Match object; span=(207, 208), match='\\n'>\n",
            "<_sre.SRE_Match object; span=(211, 212), match='.'>\n",
            "<_sre.SRE_Match object; span=(212, 213), match=' '>\n",
            "<_sre.SRE_Match object; span=(221, 222), match='\\n'>\n",
            "<_sre.SRE_Match object; span=(224, 225), match='.'>\n",
            "<_sre.SRE_Match object; span=(225, 226), match=' '>\n",
            "<_sre.SRE_Match object; span=(234, 235), match='\\n'>\n"
          ],
          "name": "stdout"
        }
      ]
    },
    {
      "cell_type": "code",
      "metadata": {
        "id": "PL_iI-j4DWrl",
        "outputId": "2f09e906-4fce-40c7-9220-3395634f3e41",
        "colab": {
          "base_uri": "https://localhost:8080/",
          "height": 655
        }
      },
      "source": [
        "pattern = re.compile(r'\\s') # white space  (space  , tab, new line) \n",
        "matches = pattern.finditer(text_to_search) \n",
        "\n",
        "for match in matches:\n",
        "  print(match)"
      ],
      "execution_count": 6,
      "outputs": [
        {
          "output_type": "stream",
          "text": [
            "<_sre.SRE_Match object; span=(0, 1), match='\\n'>\n",
            "<_sre.SRE_Match object; span=(28, 29), match='\\n'>\n",
            "<_sre.SRE_Match object; span=(52, 53), match='\\n'>\n",
            "<_sre.SRE_Match object; span=(62, 63), match='\\n'>\n",
            "<_sre.SRE_Match object; span=(65, 66), match=' '>\n",
            "<_sre.SRE_Match object; span=(70, 71), match='\\n'>\n",
            "<_sre.SRE_Match object; span=(85, 86), match=' '>\n",
            "<_sre.SRE_Match object; span=(91, 92), match=' '>\n",
            "<_sre.SRE_Match object; span=(94, 95), match=' '>\n",
            "<_sre.SRE_Match object; span=(97, 98), match=' '>\n",
            "<_sre.SRE_Match object; span=(106, 107), match='\\n'>\n",
            "<_sre.SRE_Match object; span=(108, 109), match=' '>\n",
            "<_sre.SRE_Match object; span=(110, 111), match=' '>\n",
            "<_sre.SRE_Match object; span=(112, 113), match=' '>\n",
            "<_sre.SRE_Match object; span=(114, 115), match=' '>\n",
            "<_sre.SRE_Match object; span=(116, 117), match=' '>\n",
            "<_sre.SRE_Match object; span=(118, 119), match=' '>\n",
            "<_sre.SRE_Match object; span=(120, 121), match=' '>\n",
            "<_sre.SRE_Match object; span=(122, 123), match=' '>\n",
            "<_sre.SRE_Match object; span=(124, 125), match=' '>\n",
            "<_sre.SRE_Match object; span=(126, 127), match=' '>\n",
            "<_sre.SRE_Match object; span=(128, 129), match=' '>\n",
            "<_sre.SRE_Match object; span=(130, 131), match=' '>\n",
            "<_sre.SRE_Match object; span=(132, 133), match=' '>\n",
            "<_sre.SRE_Match object; span=(134, 135), match='\\n'>\n",
            "<_sre.SRE_Match object; span=(146, 147), match='\\n'>\n",
            "<_sre.SRE_Match object; span=(159, 160), match='\\n'>\n",
            "<_sre.SRE_Match object; span=(172, 173), match='\\n'>\n",
            "<_sre.SRE_Match object; span=(176, 177), match=' '>\n",
            "<_sre.SRE_Match object; span=(184, 185), match='\\n'>\n",
            "<_sre.SRE_Match object; span=(187, 188), match=' '>\n",
            "<_sre.SRE_Match object; span=(193, 194), match='\\n'>\n",
            "<_sre.SRE_Match object; span=(196, 197), match=' '>\n",
            "<_sre.SRE_Match object; span=(202, 203), match='\\n'>\n",
            "<_sre.SRE_Match object; span=(207, 208), match=' '>\n",
            "<_sre.SRE_Match object; span=(216, 217), match='\\n'>\n",
            "<_sre.SRE_Match object; span=(220, 221), match=' '>\n",
            "<_sre.SRE_Match object; span=(229, 230), match='\\n'>\n"
          ],
          "name": "stdout"
        }
      ]
    },
    {
      "cell_type": "code",
      "metadata": {
        "id": "MELMm-IfD9q-",
        "outputId": "04679aba-b5bd-453b-b82b-0e8334aa403f",
        "colab": {
          "base_uri": "https://localhost:8080/",
          "height": 50
        }
      },
      "source": [
        "pattern = re.compile(r'\\bHa') # white space  (space  , tab, new line) \n",
        "matches = pattern.finditer(text_to_search) \n",
        "\n",
        "for match in matches:\n",
        "  print(match)"
      ],
      "execution_count": 39,
      "outputs": [
        {
          "output_type": "stream",
          "text": [
            "<_sre.SRE_Match object; span=(63, 65), match='Ha'>\n",
            "<_sre.SRE_Match object; span=(66, 68), match='Ha'>\n"
          ],
          "name": "stdout"
        }
      ]
    },
    {
      "cell_type": "code",
      "metadata": {
        "id": "6Ipfgr69ESf6",
        "outputId": "45689991-8606-4192-ea00-3620c61fddbb",
        "colab": {
          "base_uri": "https://localhost:8080/",
          "height": 34
        }
      },
      "source": [
        "pattern = re.compile(r'^Start')\n",
        "matches = pattern.finditer(sentance) \n",
        "\n",
        "for match in matches:\n",
        "  print(match)"
      ],
      "execution_count": 40,
      "outputs": [
        {
          "output_type": "stream",
          "text": [
            "<_sre.SRE_Match object; span=(0, 5), match='Start'>\n"
          ],
          "name": "stdout"
        }
      ]
    },
    {
      "cell_type": "code",
      "metadata": {
        "id": "xMHbU8SMFBBQ",
        "outputId": "57707f65-32fd-476e-c3f0-f2a94858f30c",
        "colab": {
          "base_uri": "https://localhost:8080/",
          "height": 34
        }
      },
      "source": [
        "pattern = re.compile(r'end$')\n",
        "matches = pattern.finditer(sentance) \n",
        "\n",
        "for match in matches:\n",
        "  print(match)"
      ],
      "execution_count": 41,
      "outputs": [
        {
          "output_type": "stream",
          "text": [
            "<_sre.SRE_Match object; span=(41, 44), match='end'>\n"
          ],
          "name": "stdout"
        }
      ]
    },
    {
      "cell_type": "code",
      "metadata": {
        "id": "kpTKw_m0FSRq",
        "outputId": "7f724897-f7d8-46c1-f53e-19c9db72f608",
        "colab": {
          "base_uri": "https://localhost:8080/",
          "height": 168
        }
      },
      "source": [
        "pattern = re.compile(r'\\d\\d\\d')\n",
        "matches = pattern.finditer(text_to_search)  # match any three combinations of digits \n",
        "\n",
        "for match in matches:\n",
        "  print(match)"
      ],
      "execution_count": 42,
      "outputs": [
        {
          "output_type": "stream",
          "text": [
            "<_sre.SRE_Match object; span=(53, 56), match='123'>\n",
            "<_sre.SRE_Match object; span=(56, 59), match='456'>\n",
            "<_sre.SRE_Match object; span=(59, 62), match='789'>\n",
            "<_sre.SRE_Match object; span=(152, 155), match='321'>\n",
            "<_sre.SRE_Match object; span=(156, 159), match='555'>\n",
            "<_sre.SRE_Match object; span=(160, 163), match='432'>\n",
            "<_sre.SRE_Match object; span=(165, 168), match='123'>\n",
            "<_sre.SRE_Match object; span=(169, 172), match='555'>\n",
            "<_sre.SRE_Match object; span=(173, 176), match='123'>\n"
          ],
          "name": "stdout"
        }
      ]
    },
    {
      "cell_type": "code",
      "metadata": {
        "id": "OdpOgLoYGEhi",
        "outputId": "2b9a436c-4de3-42fb-c5cf-d5615908ca5e",
        "colab": {
          "base_uri": "https://localhost:8080/",
          "height": 262
        }
      },
      "source": [
        "pattern = re.compile(r'\\d\\d\\d.\\d\\d\\d.\\d\\d\\d\\d') #match the phone number formats \n",
        "matches = pattern.finditer(text_to_search)  # match any three combinations of digits \n",
        "\n",
        "for match in matches:\n",
        "  print(match)"
      ],
      "execution_count": 4,
      "outputs": [
        {
          "output_type": "error",
          "ename": "NameError",
          "evalue": "ignored",
          "traceback": [
            "\u001b[0;31m---------------------------------------------------------------------------\u001b[0m",
            "\u001b[0;31mNameError\u001b[0m                                 Traceback (most recent call last)",
            "\u001b[0;32m<ipython-input-4-74d31f0bf53e>\u001b[0m in \u001b[0;36m<module>\u001b[0;34m()\u001b[0m\n\u001b[1;32m      1\u001b[0m \u001b[0mpattern\u001b[0m \u001b[0;34m=\u001b[0m \u001b[0mre\u001b[0m\u001b[0;34m.\u001b[0m\u001b[0mcompile\u001b[0m\u001b[0;34m(\u001b[0m\u001b[0;34mr'\\d\\d\\d.\\d\\d\\d.\\d\\d\\d\\d'\u001b[0m\u001b[0;34m)\u001b[0m \u001b[0;31m#match the phone number formats\u001b[0m\u001b[0;34m\u001b[0m\u001b[0;34m\u001b[0m\u001b[0m\n\u001b[0;32m----> 2\u001b[0;31m \u001b[0mmatches\u001b[0m \u001b[0;34m=\u001b[0m \u001b[0mpattern\u001b[0m\u001b[0;34m.\u001b[0m\u001b[0mfinditer\u001b[0m\u001b[0;34m(\u001b[0m\u001b[0mtext_to_search\u001b[0m\u001b[0;34m)\u001b[0m  \u001b[0;31m# match any three combinations of digits\u001b[0m\u001b[0;34m\u001b[0m\u001b[0;34m\u001b[0m\u001b[0m\n\u001b[0m\u001b[1;32m      3\u001b[0m \u001b[0;34m\u001b[0m\u001b[0m\n\u001b[1;32m      4\u001b[0m \u001b[0;32mfor\u001b[0m \u001b[0mmatch\u001b[0m \u001b[0;32min\u001b[0m \u001b[0mmatches\u001b[0m\u001b[0;34m:\u001b[0m\u001b[0;34m\u001b[0m\u001b[0;34m\u001b[0m\u001b[0m\n\u001b[1;32m      5\u001b[0m   \u001b[0mprint\u001b[0m\u001b[0;34m(\u001b[0m\u001b[0mmatch\u001b[0m\u001b[0;34m)\u001b[0m\u001b[0;34m\u001b[0m\u001b[0;34m\u001b[0m\u001b[0m\n",
            "\u001b[0;31mNameError\u001b[0m: name 'text_to_search' is not defined"
          ]
        }
      ]
    },
    {
      "cell_type": "code",
      "metadata": {
        "id": "MH5HaLyguZdx",
        "outputId": "5dd11e24-d8a4-4f87-f493-0aa8ef975528",
        "colab": {
          "base_uri": "https://localhost:8080/",
          "height": 50
        }
      },
      "source": [
        "pattern = re.compile(r'\\d\\d\\d.\\d\\d\\d.\\d\\d\\d\\d') #match the phone number formats \n",
        "matches = pattern.finditer(text_to_search)  # match any three combinations of digits \n",
        "\n",
        "for match in matches:\n",
        "  print(match)"
      ],
      "execution_count": 7,
      "outputs": [
        {
          "output_type": "stream",
          "text": [
            "<_sre.SRE_Match object; span=(147, 159), match='321-555-4321'>\n",
            "<_sre.SRE_Match object; span=(160, 172), match='123.555-1234'>\n"
          ],
          "name": "stdout"
        }
      ]
    },
    {
      "cell_type": "code",
      "metadata": {
        "id": "X3A4-tD7vfeZ",
        "outputId": "70f3979b-6a00-4795-9447-44f87ed6f83d",
        "colab": {
          "base_uri": "https://localhost:8080/",
          "height": 101
        }
      },
      "source": [
        "# match 3 digits,   dash or a dot , 3 digits , dash or a dot , 4 digits \n",
        "pattern = re.compile(r'\\d\\d\\d[-.]\\d\\d\\d[-.]\\d\\d\\d\\d') #match the phone number formats \n",
        "matches = pattern.finditer(text_to_search) \n",
        "\n",
        "for match in matches:\n",
        "  print(match)"
      ],
      "execution_count": 12,
      "outputs": [
        {
          "output_type": "stream",
          "text": [
            "<_sre.SRE_Match object; span=(147, 159), match='321-555-4321'>\n",
            "<_sre.SRE_Match object; span=(160, 172), match='123.555-1234'>\n",
            "<_sre.SRE_Match object; span=(173, 185), match='800-555-5669'>\n",
            "<_sre.SRE_Match object; span=(186, 198), match='900-555-9340'>\n",
            "<_sre.SRE_Match object; span=(199, 211), match='800-555-6771'>\n"
          ],
          "name": "stdout"
        }
      ]
    },
    {
      "cell_type": "code",
      "metadata": {
        "id": "sarq1qwRys9Z",
        "outputId": "2ff08f50-e8d8-45a3-9bd5-1adb98a4cba8",
        "colab": {
          "base_uri": "https://localhost:8080/",
          "height": 67
        }
      },
      "source": [
        "# matches only telephone numbers  stats with 800 or 900 digits\n",
        "pattern = re.compile(r'[89]00[-.]\\d\\d\\d[-.]\\d\\d\\d\\d') #match the phone number formats \n",
        "matches = pattern.finditer(text_to_search) \n",
        "\n",
        "for match in matches:\n",
        "  print(match)"
      ],
      "execution_count": 18,
      "outputs": [
        {
          "output_type": "stream",
          "text": [
            "<_sre.SRE_Match object; span=(173, 185), match='800-555-5669'>\n",
            "<_sre.SRE_Match object; span=(186, 198), match='900-555-9340'>\n",
            "<_sre.SRE_Match object; span=(199, 211), match='800-555-6771'>\n"
          ],
          "name": "stdout"
        }
      ]
    },
    {
      "cell_type": "code",
      "metadata": {
        "id": "0OR_WVjnwJ17",
        "outputId": "5688e9ef-918f-4b4f-d059-5583cf177903",
        "colab": {
          "base_uri": "https://localhost:8080/",
          "height": 1000
        }
      },
      "source": [
        "# match ether  lowercase or upercase catacherts \n",
        "pattern = re.compile(r'[a-z A-Z]') #match the phone number formats \n",
        "matches = pattern.finditer(text_to_search) \n",
        "\n",
        "for match in matches:\n",
        "  print(match)"
      ],
      "execution_count": 19,
      "outputs": [
        {
          "output_type": "stream",
          "text": [
            "<_sre.SRE_Match object; span=(1, 2), match='a'>\n",
            "<_sre.SRE_Match object; span=(2, 3), match='b'>\n",
            "<_sre.SRE_Match object; span=(3, 4), match='c'>\n",
            "<_sre.SRE_Match object; span=(4, 5), match='d'>\n",
            "<_sre.SRE_Match object; span=(5, 6), match='e'>\n",
            "<_sre.SRE_Match object; span=(6, 7), match='f'>\n",
            "<_sre.SRE_Match object; span=(7, 8), match='g'>\n",
            "<_sre.SRE_Match object; span=(8, 9), match='h'>\n",
            "<_sre.SRE_Match object; span=(9, 10), match='i'>\n",
            "<_sre.SRE_Match object; span=(10, 11), match='j'>\n",
            "<_sre.SRE_Match object; span=(11, 12), match='k'>\n",
            "<_sre.SRE_Match object; span=(12, 13), match='i'>\n",
            "<_sre.SRE_Match object; span=(13, 14), match='l'>\n",
            "<_sre.SRE_Match object; span=(14, 15), match='m'>\n",
            "<_sre.SRE_Match object; span=(15, 16), match='n'>\n",
            "<_sre.SRE_Match object; span=(16, 17), match='o'>\n",
            "<_sre.SRE_Match object; span=(17, 18), match='p'>\n",
            "<_sre.SRE_Match object; span=(18, 19), match='q'>\n",
            "<_sre.SRE_Match object; span=(19, 20), match='r'>\n",
            "<_sre.SRE_Match object; span=(20, 21), match='s'>\n",
            "<_sre.SRE_Match object; span=(21, 22), match='t'>\n",
            "<_sre.SRE_Match object; span=(22, 23), match='u'>\n",
            "<_sre.SRE_Match object; span=(23, 24), match='v'>\n",
            "<_sre.SRE_Match object; span=(24, 25), match='w'>\n",
            "<_sre.SRE_Match object; span=(25, 26), match='x'>\n",
            "<_sre.SRE_Match object; span=(26, 27), match='y'>\n",
            "<_sre.SRE_Match object; span=(27, 28), match='z'>\n",
            "<_sre.SRE_Match object; span=(29, 30), match='A'>\n",
            "<_sre.SRE_Match object; span=(30, 31), match='B'>\n",
            "<_sre.SRE_Match object; span=(31, 32), match='C'>\n",
            "<_sre.SRE_Match object; span=(32, 33), match='D'>\n",
            "<_sre.SRE_Match object; span=(33, 34), match='E'>\n",
            "<_sre.SRE_Match object; span=(34, 35), match='F'>\n",
            "<_sre.SRE_Match object; span=(35, 36), match='G'>\n",
            "<_sre.SRE_Match object; span=(36, 37), match='H'>\n",
            "<_sre.SRE_Match object; span=(37, 38), match='I'>\n",
            "<_sre.SRE_Match object; span=(38, 39), match='K'>\n",
            "<_sre.SRE_Match object; span=(39, 40), match='L'>\n",
            "<_sre.SRE_Match object; span=(40, 41), match='M'>\n",
            "<_sre.SRE_Match object; span=(41, 42), match='N'>\n",
            "<_sre.SRE_Match object; span=(42, 43), match='O'>\n",
            "<_sre.SRE_Match object; span=(43, 44), match='P'>\n",
            "<_sre.SRE_Match object; span=(44, 45), match='Q'>\n",
            "<_sre.SRE_Match object; span=(45, 46), match='R'>\n",
            "<_sre.SRE_Match object; span=(46, 47), match='S'>\n",
            "<_sre.SRE_Match object; span=(47, 48), match='T'>\n",
            "<_sre.SRE_Match object; span=(48, 49), match='V'>\n",
            "<_sre.SRE_Match object; span=(49, 50), match='W'>\n",
            "<_sre.SRE_Match object; span=(50, 51), match='Z'>\n",
            "<_sre.SRE_Match object; span=(51, 52), match='Y'>\n",
            "<_sre.SRE_Match object; span=(63, 64), match='H'>\n",
            "<_sre.SRE_Match object; span=(64, 65), match='a'>\n",
            "<_sre.SRE_Match object; span=(65, 66), match=' '>\n",
            "<_sre.SRE_Match object; span=(66, 67), match='H'>\n",
            "<_sre.SRE_Match object; span=(67, 68), match='a'>\n",
            "<_sre.SRE_Match object; span=(68, 69), match='H'>\n",
            "<_sre.SRE_Match object; span=(69, 70), match='a'>\n",
            "<_sre.SRE_Match object; span=(71, 72), match='M'>\n",
            "<_sre.SRE_Match object; span=(72, 73), match='e'>\n",
            "<_sre.SRE_Match object; span=(73, 74), match='t'>\n",
            "<_sre.SRE_Match object; span=(74, 75), match='a'>\n",
            "<_sre.SRE_Match object; span=(75, 76), match='c'>\n",
            "<_sre.SRE_Match object; span=(76, 77), match='h'>\n",
            "<_sre.SRE_Match object; span=(77, 78), match='a'>\n",
            "<_sre.SRE_Match object; span=(78, 79), match='r'>\n",
            "<_sre.SRE_Match object; span=(79, 80), match='a'>\n",
            "<_sre.SRE_Match object; span=(80, 81), match='c'>\n",
            "<_sre.SRE_Match object; span=(81, 82), match='t'>\n",
            "<_sre.SRE_Match object; span=(82, 83), match='e'>\n",
            "<_sre.SRE_Match object; span=(83, 84), match='r'>\n",
            "<_sre.SRE_Match object; span=(84, 85), match='s'>\n",
            "<_sre.SRE_Match object; span=(85, 86), match=' '>\n",
            "<_sre.SRE_Match object; span=(87, 88), match='n'>\n",
            "<_sre.SRE_Match object; span=(88, 89), match='e'>\n",
            "<_sre.SRE_Match object; span=(89, 90), match='e'>\n",
            "<_sre.SRE_Match object; span=(90, 91), match='d'>\n",
            "<_sre.SRE_Match object; span=(91, 92), match=' '>\n",
            "<_sre.SRE_Match object; span=(92, 93), match='t'>\n",
            "<_sre.SRE_Match object; span=(93, 94), match='o'>\n",
            "<_sre.SRE_Match object; span=(94, 95), match=' '>\n",
            "<_sre.SRE_Match object; span=(95, 96), match='b'>\n",
            "<_sre.SRE_Match object; span=(96, 97), match='e'>\n",
            "<_sre.SRE_Match object; span=(97, 98), match=' '>\n",
            "<_sre.SRE_Match object; span=(98, 99), match='e'>\n",
            "<_sre.SRE_Match object; span=(99, 100), match='s'>\n",
            "<_sre.SRE_Match object; span=(100, 101), match='c'>\n",
            "<_sre.SRE_Match object; span=(101, 102), match='a'>\n",
            "<_sre.SRE_Match object; span=(102, 103), match='p'>\n",
            "<_sre.SRE_Match object; span=(103, 104), match='e'>\n",
            "<_sre.SRE_Match object; span=(104, 105), match='d'>\n",
            "<_sre.SRE_Match object; span=(108, 109), match=' '>\n",
            "<_sre.SRE_Match object; span=(110, 111), match=' '>\n",
            "<_sre.SRE_Match object; span=(112, 113), match=' '>\n",
            "<_sre.SRE_Match object; span=(114, 115), match=' '>\n",
            "<_sre.SRE_Match object; span=(116, 117), match=' '>\n",
            "<_sre.SRE_Match object; span=(118, 119), match=' '>\n",
            "<_sre.SRE_Match object; span=(120, 121), match=' '>\n",
            "<_sre.SRE_Match object; span=(122, 123), match=' '>\n",
            "<_sre.SRE_Match object; span=(124, 125), match=' '>\n",
            "<_sre.SRE_Match object; span=(126, 127), match=' '>\n",
            "<_sre.SRE_Match object; span=(128, 129), match=' '>\n",
            "<_sre.SRE_Match object; span=(130, 131), match=' '>\n",
            "<_sre.SRE_Match object; span=(132, 133), match=' '>\n",
            "<_sre.SRE_Match object; span=(135, 136), match='c'>\n",
            "<_sre.SRE_Match object; span=(136, 137), match='o'>\n",
            "<_sre.SRE_Match object; span=(137, 138), match='r'>\n",
            "<_sre.SRE_Match object; span=(138, 139), match='e'>\n",
            "<_sre.SRE_Match object; span=(139, 140), match='y'>\n",
            "<_sre.SRE_Match object; span=(140, 141), match='m'>\n",
            "<_sre.SRE_Match object; span=(141, 142), match='s'>\n",
            "<_sre.SRE_Match object; span=(143, 144), match='c'>\n",
            "<_sre.SRE_Match object; span=(144, 145), match='o'>\n",
            "<_sre.SRE_Match object; span=(145, 146), match='m'>\n",
            "<_sre.SRE_Match object; span=(213, 214), match='M'>\n",
            "<_sre.SRE_Match object; span=(214, 215), match='r'>\n",
            "<_sre.SRE_Match object; span=(216, 217), match=' '>\n",
            "<_sre.SRE_Match object; span=(217, 218), match='S'>\n",
            "<_sre.SRE_Match object; span=(218, 219), match='c'>\n",
            "<_sre.SRE_Match object; span=(219, 220), match='h'>\n",
            "<_sre.SRE_Match object; span=(220, 221), match='a'>\n",
            "<_sre.SRE_Match object; span=(221, 222), match='f'>\n",
            "<_sre.SRE_Match object; span=(222, 223), match='e'>\n",
            "<_sre.SRE_Match object; span=(223, 224), match='r'>\n",
            "<_sre.SRE_Match object; span=(225, 226), match='M'>\n",
            "<_sre.SRE_Match object; span=(226, 227), match='r'>\n",
            "<_sre.SRE_Match object; span=(227, 228), match=' '>\n",
            "<_sre.SRE_Match object; span=(228, 229), match='S'>\n",
            "<_sre.SRE_Match object; span=(229, 230), match='m'>\n",
            "<_sre.SRE_Match object; span=(230, 231), match='i'>\n",
            "<_sre.SRE_Match object; span=(231, 232), match='t'>\n",
            "<_sre.SRE_Match object; span=(232, 233), match='h'>\n",
            "<_sre.SRE_Match object; span=(234, 235), match='M'>\n",
            "<_sre.SRE_Match object; span=(235, 236), match='s'>\n",
            "<_sre.SRE_Match object; span=(236, 237), match=' '>\n",
            "<_sre.SRE_Match object; span=(237, 238), match='D'>\n",
            "<_sre.SRE_Match object; span=(238, 239), match='a'>\n",
            "<_sre.SRE_Match object; span=(239, 240), match='v'>\n",
            "<_sre.SRE_Match object; span=(240, 241), match='i'>\n",
            "<_sre.SRE_Match object; span=(241, 242), match='s'>\n",
            "<_sre.SRE_Match object; span=(243, 244), match='M'>\n",
            "<_sre.SRE_Match object; span=(244, 245), match='r'>\n",
            "<_sre.SRE_Match object; span=(245, 246), match='s'>\n",
            "<_sre.SRE_Match object; span=(247, 248), match=' '>\n",
            "<_sre.SRE_Match object; span=(248, 249), match='R'>\n",
            "<_sre.SRE_Match object; span=(249, 250), match='o'>\n",
            "<_sre.SRE_Match object; span=(250, 251), match='b'>\n",
            "<_sre.SRE_Match object; span=(251, 252), match='i'>\n",
            "<_sre.SRE_Match object; span=(252, 253), match='n'>\n",
            "<_sre.SRE_Match object; span=(253, 254), match='s'>\n",
            "<_sre.SRE_Match object; span=(254, 255), match='o'>\n",
            "<_sre.SRE_Match object; span=(255, 256), match='n'>\n",
            "<_sre.SRE_Match object; span=(257, 258), match='M'>\n",
            "<_sre.SRE_Match object; span=(258, 259), match='r'>\n",
            "<_sre.SRE_Match object; span=(260, 261), match=' '>\n",
            "<_sre.SRE_Match object; span=(261, 262), match='T'>\n",
            "<_sre.SRE_Match object; span=(262, 263), match='a'>\n",
            "<_sre.SRE_Match object; span=(263, 264), match='b'>\n",
            "<_sre.SRE_Match object; span=(264, 265), match='E'>\n",
            "<_sre.SRE_Match object; span=(265, 266), match='r'>\n",
            "<_sre.SRE_Match object; span=(266, 267), match='r'>\n",
            "<_sre.SRE_Match object; span=(267, 268), match='o'>\n",
            "<_sre.SRE_Match object; span=(268, 269), match='r'>\n"
          ],
          "name": "stdout"
        }
      ]
    },
    {
      "cell_type": "code",
      "metadata": {
        "id": "jQdwjGSn1eIx",
        "outputId": "08c44145-4b4c-4879-ad08-ed87a4c37352",
        "colab": {
          "base_uri": "https://localhost:8080/",
          "height": 1000
        }
      },
      "source": [
        "# match NOT either   lowercase or upercase catacherts  or 0-9 digits because of ^\n",
        "pattern = re.compile(r'[^a-zA-Z0-9]') #match the phone number formats \n",
        "matches = pattern.finditer(text_to_search) \n",
        "\n",
        "for match in matches:\n",
        "  print(match)"
      ],
      "execution_count": 21,
      "outputs": [
        {
          "output_type": "stream",
          "text": [
            "<_sre.SRE_Match object; span=(0, 1), match='\\n'>\n",
            "<_sre.SRE_Match object; span=(28, 29), match='\\n'>\n",
            "<_sre.SRE_Match object; span=(52, 53), match='\\n'>\n",
            "<_sre.SRE_Match object; span=(62, 63), match='\\n'>\n",
            "<_sre.SRE_Match object; span=(65, 66), match=' '>\n",
            "<_sre.SRE_Match object; span=(70, 71), match='\\n'>\n",
            "<_sre.SRE_Match object; span=(85, 86), match=' '>\n",
            "<_sre.SRE_Match object; span=(86, 87), match='('>\n",
            "<_sre.SRE_Match object; span=(91, 92), match=' '>\n",
            "<_sre.SRE_Match object; span=(94, 95), match=' '>\n",
            "<_sre.SRE_Match object; span=(97, 98), match=' '>\n",
            "<_sre.SRE_Match object; span=(105, 106), match=')'>\n",
            "<_sre.SRE_Match object; span=(106, 107), match='\\n'>\n",
            "<_sre.SRE_Match object; span=(107, 108), match='.'>\n",
            "<_sre.SRE_Match object; span=(108, 109), match=' '>\n",
            "<_sre.SRE_Match object; span=(109, 110), match='^'>\n",
            "<_sre.SRE_Match object; span=(110, 111), match=' '>\n",
            "<_sre.SRE_Match object; span=(111, 112), match='$'>\n",
            "<_sre.SRE_Match object; span=(112, 113), match=' '>\n",
            "<_sre.SRE_Match object; span=(113, 114), match='*'>\n",
            "<_sre.SRE_Match object; span=(114, 115), match=' '>\n",
            "<_sre.SRE_Match object; span=(115, 116), match='+'>\n",
            "<_sre.SRE_Match object; span=(116, 117), match=' '>\n",
            "<_sre.SRE_Match object; span=(117, 118), match='?'>\n",
            "<_sre.SRE_Match object; span=(118, 119), match=' '>\n",
            "<_sre.SRE_Match object; span=(119, 120), match='{'>\n",
            "<_sre.SRE_Match object; span=(120, 121), match=' '>\n",
            "<_sre.SRE_Match object; span=(121, 122), match='}'>\n",
            "<_sre.SRE_Match object; span=(122, 123), match=' '>\n",
            "<_sre.SRE_Match object; span=(123, 124), match='['>\n",
            "<_sre.SRE_Match object; span=(124, 125), match=' '>\n",
            "<_sre.SRE_Match object; span=(125, 126), match=']'>\n",
            "<_sre.SRE_Match object; span=(126, 127), match=' '>\n",
            "<_sre.SRE_Match object; span=(127, 128), match='\\\\'>\n",
            "<_sre.SRE_Match object; span=(128, 129), match=' '>\n",
            "<_sre.SRE_Match object; span=(129, 130), match='|'>\n",
            "<_sre.SRE_Match object; span=(130, 131), match=' '>\n",
            "<_sre.SRE_Match object; span=(131, 132), match='('>\n",
            "<_sre.SRE_Match object; span=(132, 133), match=' '>\n",
            "<_sre.SRE_Match object; span=(133, 134), match=')'>\n",
            "<_sre.SRE_Match object; span=(134, 135), match='\\n'>\n",
            "<_sre.SRE_Match object; span=(142, 143), match='.'>\n",
            "<_sre.SRE_Match object; span=(146, 147), match='\\n'>\n",
            "<_sre.SRE_Match object; span=(150, 151), match='-'>\n",
            "<_sre.SRE_Match object; span=(154, 155), match='-'>\n",
            "<_sre.SRE_Match object; span=(159, 160), match='\\n'>\n",
            "<_sre.SRE_Match object; span=(163, 164), match='.'>\n",
            "<_sre.SRE_Match object; span=(167, 168), match='-'>\n",
            "<_sre.SRE_Match object; span=(172, 173), match='\\n'>\n",
            "<_sre.SRE_Match object; span=(176, 177), match='-'>\n",
            "<_sre.SRE_Match object; span=(180, 181), match='-'>\n",
            "<_sre.SRE_Match object; span=(185, 186), match='\\n'>\n",
            "<_sre.SRE_Match object; span=(189, 190), match='-'>\n",
            "<_sre.SRE_Match object; span=(193, 194), match='-'>\n",
            "<_sre.SRE_Match object; span=(198, 199), match='\\n'>\n",
            "<_sre.SRE_Match object; span=(202, 203), match='-'>\n",
            "<_sre.SRE_Match object; span=(206, 207), match='-'>\n",
            "<_sre.SRE_Match object; span=(211, 212), match='\\n'>\n",
            "<_sre.SRE_Match object; span=(212, 213), match='\\n'>\n",
            "<_sre.SRE_Match object; span=(215, 216), match='.'>\n",
            "<_sre.SRE_Match object; span=(216, 217), match=' '>\n",
            "<_sre.SRE_Match object; span=(224, 225), match='\\n'>\n",
            "<_sre.SRE_Match object; span=(227, 228), match=' '>\n",
            "<_sre.SRE_Match object; span=(233, 234), match='\\n'>\n",
            "<_sre.SRE_Match object; span=(236, 237), match=' '>\n",
            "<_sre.SRE_Match object; span=(242, 243), match='\\n'>\n",
            "<_sre.SRE_Match object; span=(246, 247), match='.'>\n",
            "<_sre.SRE_Match object; span=(247, 248), match=' '>\n",
            "<_sre.SRE_Match object; span=(256, 257), match='\\n'>\n",
            "<_sre.SRE_Match object; span=(259, 260), match='.'>\n",
            "<_sre.SRE_Match object; span=(260, 261), match=' '>\n",
            "<_sre.SRE_Match object; span=(269, 270), match='\\n'>\n"
          ],
          "name": "stdout"
        }
      ]
    },
    {
      "cell_type": "code",
      "metadata": {
        "id": "FXru0cyY2cXX"
      },
      "source": [
        "# match NOT either   lowercase or upercase catacherts  or 0-9 digits because of ^\n",
        "pattern = re.compile(r'[^a-zA-Z0-9]') #match the phone number formats \n",
        "matches = pattern.finditer(text_to_search) \n",
        "\n",
        "for match in matches:\n",
        "  print(match)"
      ],
      "execution_count": null,
      "outputs": []
    },
    {
      "cell_type": "code",
      "metadata": {
        "id": "_rSyb4JK0E6D"
      },
      "source": [
        "raw = \"\"\"'When I'M a Duchess,' she said to herself, (not in a very hopeful tone though),\n",
        "         'I won't have any pepper in my kitchen AT ALL. Soup does very well without--Maybe \n",
        "         it's always pepper that makes people hot-tempered,'...\"\"\"\n",
        "\n",
        "re.split(r' ', raw)\n",
        "\n",
        "re.split(r'[ \\t\\n]+', raw)\n",
        "\n",
        "re.split(r'\\W+', raw)\n"
      ],
      "execution_count": null,
      "outputs": []
    },
    {
      "cell_type": "markdown",
      "metadata": {
        "id": "jFGVht4l5oB3"
      },
      "source": [
        "####Exrecise: \n",
        "\n",
        "Can you extract all the tokens which match with                            \n",
        "                            1) any sequence of word characters\n",
        "                        or  2) any non-whitespace character\n",
        "                        and 3) followed by zero or more word characters\n"
      ]
    },
    {
      "cell_type": "code",
      "metadata": {
        "id": "l1xcTyFe6Mrz"
      },
      "source": [
        ""
      ],
      "execution_count": null,
      "outputs": []
    },
    {
      "cell_type": "markdown",
      "metadata": {
        "id": "DHJG5501Al4y"
      },
      "source": [
        "### Text Preprocessing framework"
      ]
    },
    {
      "cell_type": "code",
      "metadata": {
        "id": "bL7oyhBJGRjX",
        "outputId": "fae0d187-7c9a-4abd-dab2-83bd7c691718",
        "colab": {
          "base_uri": "https://localhost:8080/",
          "height": 1000
        }
      },
      "source": [
        "import nltk\n",
        "nltk.download('all')"
      ],
      "execution_count": null,
      "outputs": [
        {
          "output_type": "stream",
          "text": [
            "[nltk_data] Downloading collection 'all'\n",
            "[nltk_data]    | \n",
            "[nltk_data]    | Downloading package abc to /root/nltk_data...\n",
            "[nltk_data]    |   Unzipping corpora/abc.zip.\n",
            "[nltk_data]    | Downloading package alpino to /root/nltk_data...\n",
            "[nltk_data]    |   Unzipping corpora/alpino.zip.\n",
            "[nltk_data]    | Downloading package biocreative_ppi to\n",
            "[nltk_data]    |     /root/nltk_data...\n",
            "[nltk_data]    |   Unzipping corpora/biocreative_ppi.zip.\n",
            "[nltk_data]    | Downloading package brown to /root/nltk_data...\n",
            "[nltk_data]    |   Unzipping corpora/brown.zip.\n",
            "[nltk_data]    | Downloading package brown_tei to /root/nltk_data...\n",
            "[nltk_data]    |   Unzipping corpora/brown_tei.zip.\n",
            "[nltk_data]    | Downloading package cess_cat to /root/nltk_data...\n",
            "[nltk_data]    |   Unzipping corpora/cess_cat.zip.\n",
            "[nltk_data]    | Downloading package cess_esp to /root/nltk_data...\n",
            "[nltk_data]    |   Unzipping corpora/cess_esp.zip.\n",
            "[nltk_data]    | Downloading package chat80 to /root/nltk_data...\n",
            "[nltk_data]    |   Unzipping corpora/chat80.zip.\n",
            "[nltk_data]    | Downloading package city_database to\n",
            "[nltk_data]    |     /root/nltk_data...\n",
            "[nltk_data]    |   Unzipping corpora/city_database.zip.\n",
            "[nltk_data]    | Downloading package cmudict to /root/nltk_data...\n",
            "[nltk_data]    |   Unzipping corpora/cmudict.zip.\n",
            "[nltk_data]    | Downloading package comparative_sentences to\n",
            "[nltk_data]    |     /root/nltk_data...\n",
            "[nltk_data]    |   Unzipping corpora/comparative_sentences.zip.\n",
            "[nltk_data]    | Downloading package comtrans to /root/nltk_data...\n",
            "[nltk_data]    | Downloading package conll2000 to /root/nltk_data...\n",
            "[nltk_data]    |   Unzipping corpora/conll2000.zip.\n",
            "[nltk_data]    | Downloading package conll2002 to /root/nltk_data...\n",
            "[nltk_data]    |   Unzipping corpora/conll2002.zip.\n",
            "[nltk_data]    | Downloading package conll2007 to /root/nltk_data...\n",
            "[nltk_data]    | Downloading package crubadan to /root/nltk_data...\n",
            "[nltk_data]    |   Unzipping corpora/crubadan.zip.\n",
            "[nltk_data]    | Downloading package dependency_treebank to\n",
            "[nltk_data]    |     /root/nltk_data...\n",
            "[nltk_data]    |   Unzipping corpora/dependency_treebank.zip.\n",
            "[nltk_data]    | Downloading package dolch to /root/nltk_data...\n",
            "[nltk_data]    |   Unzipping corpora/dolch.zip.\n",
            "[nltk_data]    | Downloading package europarl_raw to\n",
            "[nltk_data]    |     /root/nltk_data...\n",
            "[nltk_data]    |   Unzipping corpora/europarl_raw.zip.\n",
            "[nltk_data]    | Downloading package floresta to /root/nltk_data...\n",
            "[nltk_data]    |   Unzipping corpora/floresta.zip.\n",
            "[nltk_data]    | Downloading package framenet_v15 to\n",
            "[nltk_data]    |     /root/nltk_data...\n",
            "[nltk_data]    |   Unzipping corpora/framenet_v15.zip.\n",
            "[nltk_data]    | Downloading package framenet_v17 to\n",
            "[nltk_data]    |     /root/nltk_data...\n",
            "[nltk_data]    |   Unzipping corpora/framenet_v17.zip.\n",
            "[nltk_data]    | Downloading package gazetteers to /root/nltk_data...\n",
            "[nltk_data]    |   Unzipping corpora/gazetteers.zip.\n",
            "[nltk_data]    | Downloading package genesis to /root/nltk_data...\n",
            "[nltk_data]    |   Unzipping corpora/genesis.zip.\n",
            "[nltk_data]    | Downloading package gutenberg to /root/nltk_data...\n",
            "[nltk_data]    |   Unzipping corpora/gutenberg.zip.\n",
            "[nltk_data]    | Downloading package ieer to /root/nltk_data...\n",
            "[nltk_data]    |   Unzipping corpora/ieer.zip.\n",
            "[nltk_data]    | Downloading package inaugural to /root/nltk_data...\n",
            "[nltk_data]    |   Unzipping corpora/inaugural.zip.\n",
            "[nltk_data]    | Downloading package indian to /root/nltk_data...\n",
            "[nltk_data]    |   Unzipping corpora/indian.zip.\n",
            "[nltk_data]    | Downloading package jeita to /root/nltk_data...\n",
            "[nltk_data]    | Downloading package kimmo to /root/nltk_data...\n",
            "[nltk_data]    |   Unzipping corpora/kimmo.zip.\n",
            "[nltk_data]    | Downloading package knbc to /root/nltk_data...\n",
            "[nltk_data]    | Downloading package lin_thesaurus to\n",
            "[nltk_data]    |     /root/nltk_data...\n",
            "[nltk_data]    |   Unzipping corpora/lin_thesaurus.zip.\n",
            "[nltk_data]    | Downloading package mac_morpho to /root/nltk_data...\n",
            "[nltk_data]    |   Unzipping corpora/mac_morpho.zip.\n",
            "[nltk_data]    | Downloading package machado to /root/nltk_data...\n",
            "[nltk_data]    | Downloading package masc_tagged to /root/nltk_data...\n",
            "[nltk_data]    | Downloading package moses_sample to\n",
            "[nltk_data]    |     /root/nltk_data...\n",
            "[nltk_data]    |   Unzipping models/moses_sample.zip.\n",
            "[nltk_data]    | Downloading package movie_reviews to\n",
            "[nltk_data]    |     /root/nltk_data...\n",
            "[nltk_data]    |   Unzipping corpora/movie_reviews.zip.\n",
            "[nltk_data]    | Downloading package names to /root/nltk_data...\n",
            "[nltk_data]    |   Unzipping corpora/names.zip.\n",
            "[nltk_data]    | Downloading package nombank.1.0 to /root/nltk_data...\n",
            "[nltk_data]    | Downloading package nps_chat to /root/nltk_data...\n",
            "[nltk_data]    |   Unzipping corpora/nps_chat.zip.\n",
            "[nltk_data]    | Downloading package omw to /root/nltk_data...\n",
            "[nltk_data]    |   Unzipping corpora/omw.zip.\n",
            "[nltk_data]    | Downloading package opinion_lexicon to\n",
            "[nltk_data]    |     /root/nltk_data...\n",
            "[nltk_data]    |   Unzipping corpora/opinion_lexicon.zip.\n",
            "[nltk_data]    | Downloading package paradigms to /root/nltk_data...\n",
            "[nltk_data]    |   Unzipping corpora/paradigms.zip.\n",
            "[nltk_data]    | Downloading package pil to /root/nltk_data...\n",
            "[nltk_data]    |   Unzipping corpora/pil.zip.\n",
            "[nltk_data]    | Downloading package pl196x to /root/nltk_data...\n",
            "[nltk_data]    |   Unzipping corpora/pl196x.zip.\n",
            "[nltk_data]    | Downloading package ppattach to /root/nltk_data...\n",
            "[nltk_data]    |   Unzipping corpora/ppattach.zip.\n",
            "[nltk_data]    | Downloading package problem_reports to\n",
            "[nltk_data]    |     /root/nltk_data...\n",
            "[nltk_data]    |   Unzipping corpora/problem_reports.zip.\n",
            "[nltk_data]    | Downloading package propbank to /root/nltk_data...\n",
            "[nltk_data]    | Downloading package ptb to /root/nltk_data...\n",
            "[nltk_data]    |   Unzipping corpora/ptb.zip.\n",
            "[nltk_data]    | Downloading package product_reviews_1 to\n",
            "[nltk_data]    |     /root/nltk_data...\n",
            "[nltk_data]    |   Unzipping corpora/product_reviews_1.zip.\n",
            "[nltk_data]    | Downloading package product_reviews_2 to\n",
            "[nltk_data]    |     /root/nltk_data...\n",
            "[nltk_data]    |   Unzipping corpora/product_reviews_2.zip.\n",
            "[nltk_data]    | Downloading package pros_cons to /root/nltk_data...\n",
            "[nltk_data]    |   Unzipping corpora/pros_cons.zip.\n",
            "[nltk_data]    | Downloading package qc to /root/nltk_data...\n",
            "[nltk_data]    |   Unzipping corpora/qc.zip.\n",
            "[nltk_data]    | Downloading package reuters to /root/nltk_data...\n",
            "[nltk_data]    | Downloading package rte to /root/nltk_data...\n",
            "[nltk_data]    |   Unzipping corpora/rte.zip.\n",
            "[nltk_data]    | Downloading package semcor to /root/nltk_data...\n",
            "[nltk_data]    | Downloading package senseval to /root/nltk_data...\n",
            "[nltk_data]    |   Unzipping corpora/senseval.zip.\n",
            "[nltk_data]    | Downloading package sentiwordnet to\n",
            "[nltk_data]    |     /root/nltk_data...\n",
            "[nltk_data]    |   Unzipping corpora/sentiwordnet.zip.\n",
            "[nltk_data]    | Downloading package sentence_polarity to\n",
            "[nltk_data]    |     /root/nltk_data...\n",
            "[nltk_data]    |   Unzipping corpora/sentence_polarity.zip.\n",
            "[nltk_data]    | Downloading package shakespeare to /root/nltk_data...\n",
            "[nltk_data]    |   Unzipping corpora/shakespeare.zip.\n",
            "[nltk_data]    | Downloading package sinica_treebank to\n",
            "[nltk_data]    |     /root/nltk_data...\n",
            "[nltk_data]    |   Unzipping corpora/sinica_treebank.zip.\n",
            "[nltk_data]    | Downloading package smultron to /root/nltk_data...\n",
            "[nltk_data]    |   Unzipping corpora/smultron.zip.\n",
            "[nltk_data]    | Downloading package state_union to /root/nltk_data...\n",
            "[nltk_data]    |   Unzipping corpora/state_union.zip.\n",
            "[nltk_data]    | Downloading package stopwords to /root/nltk_data...\n",
            "[nltk_data]    |   Unzipping corpora/stopwords.zip.\n",
            "[nltk_data]    | Downloading package subjectivity to\n",
            "[nltk_data]    |     /root/nltk_data...\n",
            "[nltk_data]    |   Unzipping corpora/subjectivity.zip.\n",
            "[nltk_data]    | Downloading package swadesh to /root/nltk_data...\n",
            "[nltk_data]    |   Unzipping corpora/swadesh.zip.\n",
            "[nltk_data]    | Downloading package switchboard to /root/nltk_data...\n",
            "[nltk_data]    |   Unzipping corpora/switchboard.zip.\n",
            "[nltk_data]    | Downloading package timit to /root/nltk_data...\n",
            "[nltk_data]    |   Unzipping corpora/timit.zip.\n",
            "[nltk_data]    | Downloading package toolbox to /root/nltk_data...\n",
            "[nltk_data]    |   Unzipping corpora/toolbox.zip.\n",
            "[nltk_data]    | Downloading package treebank to /root/nltk_data...\n",
            "[nltk_data]    |   Unzipping corpora/treebank.zip.\n",
            "[nltk_data]    | Downloading package twitter_samples to\n",
            "[nltk_data]    |     /root/nltk_data...\n",
            "[nltk_data]    |   Unzipping corpora/twitter_samples.zip.\n",
            "[nltk_data]    | Downloading package udhr to /root/nltk_data...\n",
            "[nltk_data]    |   Unzipping corpora/udhr.zip.\n",
            "[nltk_data]    | Downloading package udhr2 to /root/nltk_data...\n",
            "[nltk_data]    |   Unzipping corpora/udhr2.zip.\n",
            "[nltk_data]    | Downloading package unicode_samples to\n",
            "[nltk_data]    |     /root/nltk_data...\n",
            "[nltk_data]    |   Unzipping corpora/unicode_samples.zip.\n",
            "[nltk_data]    | Downloading package universal_treebanks_v20 to\n",
            "[nltk_data]    |     /root/nltk_data...\n",
            "[nltk_data]    | Downloading package verbnet to /root/nltk_data...\n",
            "[nltk_data]    |   Unzipping corpora/verbnet.zip.\n",
            "[nltk_data]    | Downloading package verbnet3 to /root/nltk_data...\n",
            "[nltk_data]    |   Unzipping corpora/verbnet3.zip.\n",
            "[nltk_data]    | Downloading package webtext to /root/nltk_data...\n",
            "[nltk_data]    |   Unzipping corpora/webtext.zip.\n",
            "[nltk_data]    | Downloading package wordnet to /root/nltk_data...\n",
            "[nltk_data]    |   Unzipping corpora/wordnet.zip.\n",
            "[nltk_data]    | Downloading package wordnet_ic to /root/nltk_data...\n",
            "[nltk_data]    |   Unzipping corpora/wordnet_ic.zip.\n",
            "[nltk_data]    | Downloading package words to /root/nltk_data...\n",
            "[nltk_data]    |   Unzipping corpora/words.zip.\n",
            "[nltk_data]    | Downloading package ycoe to /root/nltk_data...\n",
            "[nltk_data]    |   Unzipping corpora/ycoe.zip.\n",
            "[nltk_data]    | Downloading package rslp to /root/nltk_data...\n",
            "[nltk_data]    |   Unzipping stemmers/rslp.zip.\n",
            "[nltk_data]    | Downloading package maxent_treebank_pos_tagger to\n",
            "[nltk_data]    |     /root/nltk_data...\n",
            "[nltk_data]    |   Unzipping taggers/maxent_treebank_pos_tagger.zip.\n",
            "[nltk_data]    | Downloading package universal_tagset to\n",
            "[nltk_data]    |     /root/nltk_data...\n",
            "[nltk_data]    |   Unzipping taggers/universal_tagset.zip.\n",
            "[nltk_data]    | Downloading package maxent_ne_chunker to\n",
            "[nltk_data]    |     /root/nltk_data...\n",
            "[nltk_data]    |   Unzipping chunkers/maxent_ne_chunker.zip.\n",
            "[nltk_data]    | Downloading package punkt to /root/nltk_data...\n",
            "[nltk_data]    |   Unzipping tokenizers/punkt.zip.\n",
            "[nltk_data]    | Downloading package book_grammars to\n",
            "[nltk_data]    |     /root/nltk_data...\n",
            "[nltk_data]    |   Unzipping grammars/book_grammars.zip.\n",
            "[nltk_data]    | Downloading package sample_grammars to\n",
            "[nltk_data]    |     /root/nltk_data...\n",
            "[nltk_data]    |   Unzipping grammars/sample_grammars.zip.\n",
            "[nltk_data]    | Downloading package spanish_grammars to\n",
            "[nltk_data]    |     /root/nltk_data...\n",
            "[nltk_data]    |   Unzipping grammars/spanish_grammars.zip.\n",
            "[nltk_data]    | Downloading package basque_grammars to\n",
            "[nltk_data]    |     /root/nltk_data...\n",
            "[nltk_data]    |   Unzipping grammars/basque_grammars.zip.\n",
            "[nltk_data]    | Downloading package large_grammars to\n",
            "[nltk_data]    |     /root/nltk_data...\n",
            "[nltk_data]    |   Unzipping grammars/large_grammars.zip.\n",
            "[nltk_data]    | Downloading package tagsets to /root/nltk_data...\n",
            "[nltk_data]    |   Unzipping help/tagsets.zip.\n",
            "[nltk_data]    | Downloading package snowball_data to\n",
            "[nltk_data]    |     /root/nltk_data...\n",
            "[nltk_data]    | Downloading package bllip_wsj_no_aux to\n",
            "[nltk_data]    |     /root/nltk_data...\n",
            "[nltk_data]    |   Unzipping models/bllip_wsj_no_aux.zip.\n",
            "[nltk_data]    | Downloading package word2vec_sample to\n",
            "[nltk_data]    |     /root/nltk_data...\n",
            "[nltk_data]    |   Unzipping models/word2vec_sample.zip.\n",
            "[nltk_data]    | Downloading package panlex_swadesh to\n",
            "[nltk_data]    |     /root/nltk_data...\n",
            "[nltk_data]    | Downloading package mte_teip5 to /root/nltk_data...\n",
            "[nltk_data]    |   Unzipping corpora/mte_teip5.zip.\n",
            "[nltk_data]    | Downloading package averaged_perceptron_tagger to\n",
            "[nltk_data]    |     /root/nltk_data...\n",
            "[nltk_data]    |   Unzipping taggers/averaged_perceptron_tagger.zip.\n",
            "[nltk_data]    | Downloading package averaged_perceptron_tagger_ru to\n",
            "[nltk_data]    |     /root/nltk_data...\n",
            "[nltk_data]    |   Unzipping\n",
            "[nltk_data]    |       taggers/averaged_perceptron_tagger_ru.zip.\n",
            "[nltk_data]    | Downloading package perluniprops to\n",
            "[nltk_data]    |     /root/nltk_data...\n",
            "[nltk_data]    |   Unzipping misc/perluniprops.zip.\n",
            "[nltk_data]    | Downloading package nonbreaking_prefixes to\n",
            "[nltk_data]    |     /root/nltk_data...\n",
            "[nltk_data]    |   Unzipping corpora/nonbreaking_prefixes.zip.\n",
            "[nltk_data]    | Downloading package vader_lexicon to\n",
            "[nltk_data]    |     /root/nltk_data...\n",
            "[nltk_data]    | Downloading package porter_test to /root/nltk_data...\n",
            "[nltk_data]    |   Unzipping stemmers/porter_test.zip.\n",
            "[nltk_data]    | Downloading package wmt15_eval to /root/nltk_data...\n",
            "[nltk_data]    |   Unzipping models/wmt15_eval.zip.\n",
            "[nltk_data]    | Downloading package mwa_ppdb to /root/nltk_data...\n",
            "[nltk_data]    |   Unzipping misc/mwa_ppdb.zip.\n",
            "[nltk_data]    | \n",
            "[nltk_data]  Done downloading collection all\n"
          ],
          "name": "stdout"
        },
        {
          "output_type": "execute_result",
          "data": {
            "text/plain": [
              "True"
            ]
          },
          "metadata": {
            "tags": []
          },
          "execution_count": 5
        }
      ]
    },
    {
      "cell_type": "code",
      "metadata": {
        "id": "7ZAI7kP9AmHO",
        "outputId": "7da50b11-6f5b-4b23-990a-3eec167dbef1",
        "colab": {
          "base_uri": "https://localhost:8080/",
          "height": 530
        }
      },
      "source": [
        "# Run below if beautifulsoup and requests library is not installed already \n",
        "#pip install requests beautifulsoup4 \n",
        "\n",
        "# Import the libraries\n",
        "from bs4 import BeautifulSoup\n",
        "import requests\n",
        "from nltk import pos_tag, sent_tokenize, wordpunct_tokenize\n",
        "\n",
        "def tokenize(text):\n",
        "  for paragraph in soup.find_all(\"p\"):\n",
        "     print(\" \")\n",
        "     print(paragraph.text)\n",
        "     yield [ pos_tag(wordpunct_tokenize(sentence)) for sentence in sent_tokenize(paragraph.text) ]\n",
        "\n",
        "url=\"https://en.wikipedia.org/wiki/List_of_countries_by_GDP_(nominal)\"\n",
        "\n",
        "# Make a GET request to fetch the raw HTML content\n",
        "html_content = requests.get(url).text\n",
        "# Parse the html content\n",
        "soup = BeautifulSoup(html_content, \"lxml\")\n",
        "\n",
        "# Now printing the values fater applying tokenization\n",
        "for value in tokenize(soup):\n",
        "  print(value)\n",
        "\n"
      ],
      "execution_count": null,
      "outputs": [
        {
          "output_type": "stream",
          "text": [
            " \n",
            "\n",
            "\n",
            "[]\n",
            " \n",
            "\n",
            "\n",
            "[]\n",
            " \n",
            "Gross domestic product (GDP) is the market value of all final goods and services from a nation in a given year.[2] Countries are sorted by nominal GDP estimates from financial and statistical institutions, which are calculated at market or government official exchange rates. Nominal GDP does not take into account differences in the cost of living in different countries, and the results can vary greatly from one year to another based on fluctuations in the exchange rates of the country's currency.[3] Such fluctuations may change a country's ranking from one year to the next, even though they often make little or no difference in the standard of living of its population.[4]\n",
            "\n",
            "[[('Gross', 'NNP'), ('domestic', 'JJ'), ('product', 'NN'), ('(', '('), ('GDP', 'NNP'), (')', ')'), ('is', 'VBZ'), ('the', 'DT'), ('market', 'NN'), ('value', 'NN'), ('of', 'IN'), ('all', 'DT'), ('final', 'JJ'), ('goods', 'NNS'), ('and', 'CC'), ('services', 'NNS'), ('from', 'IN'), ('a', 'DT'), ('nation', 'NN'), ('in', 'IN'), ('a', 'DT'), ('given', 'VBN'), ('year', 'NN'), ('.', '.')], [('[', 'RB'), ('2', 'CD'), (']', 'JJ'), ('Countries', 'NNS'), ('are', 'VBP'), ('sorted', 'VBN'), ('by', 'IN'), ('nominal', 'JJ'), ('GDP', 'NNP'), ('estimates', 'NNS'), ('from', 'IN'), ('financial', 'JJ'), ('and', 'CC'), ('statistical', 'JJ'), ('institutions', 'NNS'), (',', ','), ('which', 'WDT'), ('are', 'VBP'), ('calculated', 'VBN'), ('at', 'IN'), ('market', 'NN'), ('or', 'CC'), ('government', 'NN'), ('official', 'JJ'), ('exchange', 'NN'), ('rates', 'NNS'), ('.', '.')], [('Nominal', 'JJ'), ('GDP', 'NNP'), ('does', 'VBZ'), ('not', 'RB'), ('take', 'VB'), ('into', 'IN'), ('account', 'NN'), ('differences', 'NNS'), ('in', 'IN'), ('the', 'DT'), ('cost', 'NN'), ('of', 'IN'), ('living', 'NN'), ('in', 'IN'), ('different', 'JJ'), ('countries', 'NNS'), (',', ','), ('and', 'CC'), ('the', 'DT'), ('results', 'NNS'), ('can', 'MD'), ('vary', 'VB'), ('greatly', 'RB'), ('from', 'IN'), ('one', 'CD'), ('year', 'NN'), ('to', 'TO'), ('another', 'DT'), ('based', 'VBN'), ('on', 'IN'), ('fluctuations', 'NNS'), ('in', 'IN'), ('the', 'DT'), ('exchange', 'NN'), ('rates', 'NNS'), ('of', 'IN'), ('the', 'DT'), ('country', 'NN'), (\"'\", 'POS'), ('s', 'JJ'), ('currency', 'NN'), ('.', '.')], [('[', 'RB'), ('3', 'CD'), (']', 'NNS'), ('Such', 'JJ'), ('fluctuations', 'NNS'), ('may', 'MD'), ('change', 'VB'), ('a', 'DT'), ('country', 'NN'), (\"'\", 'POS'), ('s', 'NNS'), ('ranking', 'VBG'), ('from', 'IN'), ('one', 'CD'), ('year', 'NN'), ('to', 'TO'), ('the', 'DT'), ('next', 'JJ'), (',', ','), ('even', 'RB'), ('though', 'IN'), ('they', 'PRP'), ('often', 'RB'), ('make', 'VBP'), ('little', 'JJ'), ('or', 'CC'), ('no', 'DT'), ('difference', 'NN'), ('in', 'IN'), ('the', 'DT'), ('standard', 'NN'), ('of', 'IN'), ('living', 'NN'), ('of', 'IN'), ('its', 'PRP$'), ('population', 'NN'), ('.', '.')], [('[', 'RB'), ('4', 'CD'), (']', 'NNS')]]\n",
            " \n",
            "Comparisons of national wealth are also frequently made on the basis of purchasing power parity (PPP), to adjust for differences in the cost of living in different countries. PPP largely removes the exchange rate problem, but has its own drawbacks; it does not reflect the value of economic output in international trade, does not take into account the differences of quality of goods and services among countries, and it also requires more estimation than nominal GDP.[5] On the whole, PPP per capita figures are less spread than nominal GDP per capita figures.[6]\n",
            "\n",
            "[[('Comparisons', 'NNS'), ('of', 'IN'), ('national', 'JJ'), ('wealth', 'NN'), ('are', 'VBP'), ('also', 'RB'), ('frequently', 'RB'), ('made', 'VBN'), ('on', 'IN'), ('the', 'DT'), ('basis', 'NN'), ('of', 'IN'), ('purchasing', 'VBG'), ('power', 'NN'), ('parity', 'NN'), ('(', '('), ('PPP', 'NNP'), ('),', 'NNP'), ('to', 'TO'), ('adjust', 'VB'), ('for', 'IN'), ('differences', 'NNS'), ('in', 'IN'), ('the', 'DT'), ('cost', 'NN'), ('of', 'IN'), ('living', 'NN'), ('in', 'IN'), ('different', 'JJ'), ('countries', 'NNS'), ('.', '.')], [('PPP', 'NNP'), ('largely', 'RB'), ('removes', 'VBZ'), ('the', 'DT'), ('exchange', 'NN'), ('rate', 'NN'), ('problem', 'NN'), (',', ','), ('but', 'CC'), ('has', 'VBZ'), ('its', 'PRP$'), ('own', 'JJ'), ('drawbacks', 'NNS'), (';', ':'), ('it', 'PRP'), ('does', 'VBZ'), ('not', 'RB'), ('reflect', 'VB'), ('the', 'DT'), ('value', 'NN'), ('of', 'IN'), ('economic', 'JJ'), ('output', 'NN'), ('in', 'IN'), ('international', 'JJ'), ('trade', 'NN'), (',', ','), ('does', 'VBZ'), ('not', 'RB'), ('take', 'VB'), ('into', 'IN'), ('account', 'NN'), ('the', 'DT'), ('differences', 'NNS'), ('of', 'IN'), ('quality', 'NN'), ('of', 'IN'), ('goods', 'NNS'), ('and', 'CC'), ('services', 'NNS'), ('among', 'IN'), ('countries', 'NNS'), (',', ','), ('and', 'CC'), ('it', 'PRP'), ('also', 'RB'), ('requires', 'VBZ'), ('more', 'JJR'), ('estimation', 'NN'), ('than', 'IN'), ('nominal', 'JJ'), ('GDP', 'NNP'), ('.', '.')], [('[', 'RB'), ('5', 'CD'), (']', 'NNS'), ('On', 'IN'), ('the', 'DT'), ('whole', 'NN'), (',', ','), ('PPP', 'NNP'), ('per', 'IN'), ('capita', 'NN'), ('figures', 'NNS'), ('are', 'VBP'), ('less', 'RBR'), ('spread', 'JJ'), ('than', 'IN'), ('nominal', 'JJ'), ('GDP', 'NNP'), ('per', 'IN'), ('capita', 'NN'), ('figures', 'NNS'), ('.', '.')], [('[', 'RB'), ('6', 'CD'), (']', 'NNS')]]\n",
            " \n",
            "The United States is the world's largest economy with a GDP of approximately $20.513 trillion, notably due to high average incomes, a large population,[7] capital investment, low unemployment,[8] high consumer spending,[9] a relatively young population,[10] and technological innovation.[11] Tuvalu is the world's smallest national economy, with a GDP of about $32 million, because of its very small population, a lack of natural resources, reliance on foreign aid, negligible capital investment, demographic problems, and low average incomes.[12]\n",
            "\n",
            "[[('The', 'DT'), ('United', 'NNP'), ('States', 'NNPS'), ('is', 'VBZ'), ('the', 'DT'), ('world', 'NN'), (\"'\", 'POS'), ('s', 'JJ'), ('largest', 'JJS'), ('economy', 'NN'), ('with', 'IN'), ('a', 'DT'), ('GDP', 'NNP'), ('of', 'IN'), ('approximately', 'RB'), ('$', '$'), ('20', 'CD'), ('.', '.'), ('513', 'CD'), ('trillion', 'CD'), (',', ','), ('notably', 'RB'), ('due', 'JJ'), ('to', 'TO'), ('high', 'JJ'), ('average', 'JJ'), ('incomes', 'NNS'), (',', ','), ('a', 'DT'), ('large', 'JJ'), ('population', 'NN'), (',[', 'VBD'), ('7', 'CD'), (']', 'NNP'), ('capital', 'NN'), ('investment', 'NN'), (',', ','), ('low', 'JJ'), ('unemployment', 'NN'), (',[', 'NN'), ('8', 'CD'), (']', 'JJ'), ('high', 'JJ'), ('consumer', 'NN'), ('spending', 'NN'), (',[', 'VBD'), ('9', 'CD'), (']', 'NN'), ('a', 'DT'), ('relatively', 'RB'), ('young', 'JJ'), ('population', 'NN'), (',[', 'VBD'), ('10', 'CD'), (']', 'NN'), ('and', 'CC'), ('technological', 'JJ'), ('innovation', 'NN'), ('.', '.')], [('[', 'RB'), ('11', 'CD'), (']', 'JJ'), ('Tuvalu', 'NNP'), ('is', 'VBZ'), ('the', 'DT'), ('world', 'NN'), (\"'\", 'POS'), ('s', 'JJ'), ('smallest', 'JJS'), ('national', 'JJ'), ('economy', 'NN'), (',', ','), ('with', 'IN'), ('a', 'DT'), ('GDP', 'NNP'), ('of', 'IN'), ('about', 'RB'), ('$', '$'), ('32', 'CD'), ('million', 'CD'), (',', ','), ('because', 'IN'), ('of', 'IN'), ('its', 'PRP$'), ('very', 'RB'), ('small', 'JJ'), ('population', 'NN'), (',', ','), ('a', 'DT'), ('lack', 'NN'), ('of', 'IN'), ('natural', 'JJ'), ('resources', 'NNS'), (',', ','), ('reliance', 'NN'), ('on', 'IN'), ('foreign', 'JJ'), ('aid', 'NN'), (',', ','), ('negligible', 'JJ'), ('capital', 'NN'), ('investment', 'NN'), (',', ','), ('demographic', 'JJ'), ('problems', 'NNS'), (',', ','), ('and', 'CC'), ('low', 'JJ'), ('average', 'JJ'), ('incomes', 'NNS'), ('.', '.')], [('[', 'RB'), ('12', 'CD'), (']', 'NNS')]]\n",
            " \n",
            "Although the rankings of national economies have changed considerably over time, the United States has maintained its top position since the Gilded Age, a time period in which its economy saw rapid expansion, surpassing the British Empire and Qing dynasty in aggregate output.[13][14] Since China's transition to a market-based economy through controlled  privatisation and deregulation,[15][16] the country has seen its ranking increase from ninth in 1978 to second to only the United States in 2016 as economic growth accelerated and its share of global nominal GDP surged from 2% in 1980 to 15% in 2016.[14][1] India has also experienced a similar economic boom since the implementation of economic liberalisation in the early 1990s.[17] When supranational entities are included, the European Union is the second largest economy in the world. It was the largest from 2004, when ten countries joined the union,[18] to 2014, after which it was surpassed by the United States.[19]\n",
            "\n",
            "[[('Although', 'IN'), ('the', 'DT'), ('rankings', 'NNS'), ('of', 'IN'), ('national', 'JJ'), ('economies', 'NNS'), ('have', 'VBP'), ('changed', 'VBN'), ('considerably', 'RB'), ('over', 'IN'), ('time', 'NN'), (',', ','), ('the', 'DT'), ('United', 'NNP'), ('States', 'NNPS'), ('has', 'VBZ'), ('maintained', 'VBN'), ('its', 'PRP$'), ('top', 'JJ'), ('position', 'NN'), ('since', 'IN'), ('the', 'DT'), ('Gilded', 'NNP'), ('Age', 'NNP'), (',', ','), ('a', 'DT'), ('time', 'NN'), ('period', 'NN'), ('in', 'IN'), ('which', 'WDT'), ('its', 'PRP$'), ('economy', 'NN'), ('saw', 'VBD'), ('rapid', 'JJ'), ('expansion', 'NN'), (',', ','), ('surpassing', 'VBG'), ('the', 'DT'), ('British', 'JJ'), ('Empire', 'NNP'), ('and', 'CC'), ('Qing', 'NNP'), ('dynasty', 'NN'), ('in', 'IN'), ('aggregate', 'JJ'), ('output', 'NN'), ('.', '.')], [('[', 'RB'), ('13', 'CD'), ('][', 'JJ'), ('14', 'CD'), (']', 'NN'), ('Since', 'IN'), ('China', 'NNP'), (\"'\", 'POS'), ('s', 'JJ'), ('transition', 'NN'), ('to', 'TO'), ('a', 'DT'), ('market', 'NN'), ('-', ':'), ('based', 'VBN'), ('economy', 'NN'), ('through', 'IN'), ('controlled', 'VBN'), ('privatisation', 'NN'), ('and', 'CC'), ('deregulation', 'NN'), (',[', 'VBP'), ('15', 'CD'), ('][', '$'), ('16', 'CD'), (']', 'IN'), ('the', 'DT'), ('country', 'NN'), ('has', 'VBZ'), ('seen', 'VBN'), ('its', 'PRP$'), ('ranking', 'JJ'), ('increase', 'NN'), ('from', 'IN'), ('ninth', 'JJ'), ('in', 'IN'), ('1978', 'CD'), ('to', 'TO'), ('second', 'VB'), ('to', 'TO'), ('only', 'RB'), ('the', 'DT'), ('United', 'NNP'), ('States', 'NNPS'), ('in', 'IN'), ('2016', 'CD'), ('as', 'IN'), ('economic', 'JJ'), ('growth', 'NN'), ('accelerated', 'VBD'), ('and', 'CC'), ('its', 'PRP$'), ('share', 'NN'), ('of', 'IN'), ('global', 'JJ'), ('nominal', 'JJ'), ('GDP', 'NNP'), ('surged', 'VBD'), ('from', 'IN'), ('2', 'CD'), ('%', 'NN'), ('in', 'IN'), ('1980', 'CD'), ('to', 'TO'), ('15', 'CD'), ('%', 'NN'), ('in', 'IN'), ('2016', 'CD'), ('.', '.')], [('[', 'RB'), ('14', 'CD'), ('][', 'JJ'), ('1', 'CD'), (']', 'NN'), ('India', 'NNP'), ('has', 'VBZ'), ('also', 'RB'), ('experienced', 'VBN'), ('a', 'DT'), ('similar', 'JJ'), ('economic', 'JJ'), ('boom', 'NN'), ('since', 'IN'), ('the', 'DT'), ('implementation', 'NN'), ('of', 'IN'), ('economic', 'JJ'), ('liberalisation', 'NN'), ('in', 'IN'), ('the', 'DT'), ('early', 'JJ'), ('1990s', 'CD'), ('.', '.')], [('[', 'RB'), ('17', 'CD'), (']', 'NNS'), ('When', 'WRB'), ('supranational', 'JJ'), ('entities', 'NNS'), ('are', 'VBP'), ('included', 'VBN'), (',', ','), ('the', 'DT'), ('European', 'NNP'), ('Union', 'NNP'), ('is', 'VBZ'), ('the', 'DT'), ('second', 'JJ'), ('largest', 'JJS'), ('economy', 'NN'), ('in', 'IN'), ('the', 'DT'), ('world', 'NN'), ('.', '.')], [('It', 'PRP'), ('was', 'VBD'), ('the', 'DT'), ('largest', 'JJS'), ('from', 'IN'), ('2004', 'CD'), (',', ','), ('when', 'WRB'), ('ten', 'JJ'), ('countries', 'NNS'), ('joined', 'VBD'), ('the', 'DT'), ('union', 'NN'), (',[', 'VBD'), ('18', 'CD'), (']', 'NN'), ('to', 'TO'), ('2014', 'CD'), (',', ','), ('after', 'IN'), ('which', 'WDT'), ('it', 'PRP'), ('was', 'VBD'), ('surpassed', 'VBN'), ('by', 'IN'), ('the', 'DT'), ('United', 'NNP'), ('States', 'NNPS'), ('.', '.')], [('[', 'RB'), ('19', 'CD'), (']', 'NNS')]]\n",
            " \n",
            "The first list includes estimates compiled by the International Monetary Fund's World Economic Outlook, the second list shows the World Bank's data, and the third list includes data compiled by the United Nations Statistics Division. The IMF  definitive data for the past year and estimates for the current year are published twice a year in April and October. Non-sovereign entities (the world, continents, and some dependent territories) and states with limited international recognition (such as Kosovo, the State of Palestine and Taiwan) are included in the list in cases in which they appear in the sources. These economies are not ranked in the charts here, but are listed in sequence by GDP for comparison. In addition, non-sovereign entities are marked in italics.\n",
            "\n",
            "[[('The', 'DT'), ('first', 'JJ'), ('list', 'NN'), ('includes', 'VBZ'), ('estimates', 'NNS'), ('compiled', 'VBN'), ('by', 'IN'), ('the', 'DT'), ('International', 'NNP'), ('Monetary', 'NNP'), ('Fund', 'NNP'), (\"'\", 'POS'), ('s', 'JJ'), ('World', 'NNP'), ('Economic', 'NNP'), ('Outlook', 'NNP'), (',', ','), ('the', 'DT'), ('second', 'JJ'), ('list', 'NN'), ('shows', 'VBZ'), ('the', 'DT'), ('World', 'NNP'), ('Bank', 'NNP'), (\"'\", 'POS'), ('s', 'NN'), ('data', 'NNS'), (',', ','), ('and', 'CC'), ('the', 'DT'), ('third', 'JJ'), ('list', 'NN'), ('includes', 'VBZ'), ('data', 'NNS'), ('compiled', 'VBN'), ('by', 'IN'), ('the', 'DT'), ('United', 'NNP'), ('Nations', 'NNPS'), ('Statistics', 'NNPS'), ('Division', 'NNP'), ('.', '.')], [('The', 'DT'), ('IMF', 'NNP'), ('definitive', 'JJ'), ('data', 'NNS'), ('for', 'IN'), ('the', 'DT'), ('past', 'JJ'), ('year', 'NN'), ('and', 'CC'), ('estimates', 'NNS'), ('for', 'IN'), ('the', 'DT'), ('current', 'JJ'), ('year', 'NN'), ('are', 'VBP'), ('published', 'VBN'), ('twice', 'RB'), ('a', 'DT'), ('year', 'NN'), ('in', 'IN'), ('April', 'NNP'), ('and', 'CC'), ('October', 'NNP'), ('.', '.')], [('Non', 'NNP'), ('-', ':'), ('sovereign', 'NN'), ('entities', 'NNS'), ('(', '('), ('the', 'DT'), ('world', 'NN'), (',', ','), ('continents', 'NNS'), (',', ','), ('and', 'CC'), ('some', 'DT'), ('dependent', 'JJ'), ('territories', 'NNS'), (')', ')'), ('and', 'CC'), ('states', 'VBZ'), ('with', 'IN'), ('limited', 'JJ'), ('international', 'JJ'), ('recognition', 'NN'), ('(', '('), ('such', 'JJ'), ('as', 'IN'), ('Kosovo', 'NNP'), (',', ','), ('the', 'DT'), ('State', 'NNP'), ('of', 'IN'), ('Palestine', 'NNP'), ('and', 'CC'), ('Taiwan', 'NNP'), (')', ')'), ('are', 'VBP'), ('included', 'VBN'), ('in', 'IN'), ('the', 'DT'), ('list', 'NN'), ('in', 'IN'), ('cases', 'NNS'), ('in', 'IN'), ('which', 'WDT'), ('they', 'PRP'), ('appear', 'VBP'), ('in', 'IN'), ('the', 'DT'), ('sources', 'NNS'), ('.', '.')], [('These', 'DT'), ('economies', 'NNS'), ('are', 'VBP'), ('not', 'RB'), ('ranked', 'VBN'), ('in', 'IN'), ('the', 'DT'), ('charts', 'NNS'), ('here', 'RB'), (',', ','), ('but', 'CC'), ('are', 'VBP'), ('listed', 'VBN'), ('in', 'IN'), ('sequence', 'NN'), ('by', 'IN'), ('GDP', 'NNP'), ('for', 'IN'), ('comparison', 'NN'), ('.', '.')], [('In', 'IN'), ('addition', 'NN'), (',', ','), ('non', 'SYM'), ('-', ':'), ('sovereign', 'NN'), ('entities', 'NNS'), ('are', 'VBP'), ('marked', 'VBN'), ('in', 'IN'), ('italics', 'NNS'), ('.', '.')]]\n"
          ],
          "name": "stdout"
        }
      ]
    },
    {
      "cell_type": "code",
      "metadata": {
        "id": "ENAFaEnGxpPJ",
        "outputId": "8c63c35b-6765-4576-808d-3425a8b0867c",
        "colab": {
          "base_uri": "https://localhost:8080/",
          "height": 308
        }
      },
      "source": [
        "sentence = \"Comparisons of national wealth are also frequently made on the basis of purchasing power parity (PPP)\"\n",
        "pattern = r\"\\w+\"\n",
        "for token in nltk.regexp_tokenize(sentence, pattern):\n",
        "        print(pos_tag(token))"
      ],
      "execution_count": null,
      "outputs": [
        {
          "output_type": "stream",
          "text": [
            "[('C', 'NNP'), ('o', 'MD'), ('m', 'VB'), ('p', 'VB'), ('a', 'DT'), ('r', 'NN'), ('i', 'NN'), ('s', 'VBP'), ('o', 'JJ'), ('n', 'NN'), ('s', 'NN')]\n",
            "[('o', 'NN'), ('f', 'NN')]\n",
            "[('n', 'RB'), ('a', 'DT'), ('t', 'NN'), ('i', 'NN'), ('o', 'VBP'), ('n', 'IN'), ('a', 'DT'), ('l', 'NN')]\n",
            "[('w', 'NN'), ('e', 'VBZ'), ('a', 'DT'), ('l', 'NN'), ('t', 'NN'), ('h', 'NN')]\n",
            "[('a', 'DT'), ('r', 'NN'), ('e', 'NN')]\n",
            "[('a', 'DT'), ('l', 'NN'), ('s', 'NN'), ('o', 'NN')]\n",
            "[('f', 'JJ'), ('r', 'NN'), ('e', 'NN'), ('q', 'NN'), ('u', 'JJ'), ('e', 'NN'), ('n', 'JJ'), ('t', 'NN'), ('l', 'NN'), ('y', 'NN')]\n",
            "[('m', 'VB'), ('a', 'DT'), ('d', 'NN'), ('e', 'NN')]\n",
            "[('o', 'NN'), ('n', 'NN')]\n",
            "[('t', 'NN'), ('h', 'NN'), ('e', 'NN')]\n",
            "[('b', 'VB'), ('a', 'DT'), ('s', 'NN'), ('i', 'NN'), ('s', 'VBP')]\n",
            "[('o', 'NN'), ('f', 'NN')]\n",
            "[('p', 'NN'), ('u', 'JJ'), ('r', 'NN'), ('c', 'NN'), ('h', 'VBD'), ('a', 'DT'), ('s', 'NN'), ('i', 'NN'), ('n', 'VBP'), ('g', 'NN')]\n",
            "[('p', 'NN'), ('o', 'MD'), ('w', 'VB'), ('e', 'NN'), ('r', 'NN')]\n",
            "[('p', 'NN'), ('a', 'DT'), ('r', 'NN'), ('i', 'NN'), ('t', 'VBP'), ('y', 'NN')]\n",
            "[('P', 'NNP'), ('P', 'NNP'), ('P', 'NNP')]\n"
          ],
          "name": "stdout"
        }
      ]
    }
  ]
}